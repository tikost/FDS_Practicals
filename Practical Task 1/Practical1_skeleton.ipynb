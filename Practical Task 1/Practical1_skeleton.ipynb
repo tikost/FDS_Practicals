{
 "cells": [
  {
   "cell_type": "markdown",
   "metadata": {
    "colab_type": "text",
    "id": "id1w7kwZVF3I"
   },
   "source": [
    "# Practical 1 : Implementation of Linear Regression (Ridge, Lasso)\n",
    "\n",
    "- Train a linear model\n",
    "    - using least squares method\n",
    "    - implement the model from scratch using NumPy \n",
    "    - Use learning curves plot to understand whether the linear model is overfitting or underfitting\n",
    "- Train linear models with \n",
    "    - regularization (Ridge and Lasso)\n",
    "    - polynomial basis expansion\n",
    "    - use validation data to choose the hyperparameters\n",
    "    - scikit-learn\n",
    "    - Optional task: Use k-fold cross validation to choose the optimal hyperparameters (5 bonus points)\n",
    "\n",
    "We will use the following packages:"
   ]
  },
  {
   "cell_type": "code",
   "execution_count": 1,
   "metadata": {
    "colab": {},
    "colab_type": "code",
    "id": "CTZv9o5i4gy3"
   },
   "outputs": [],
   "source": [
    "import numpy as np\n",
    "import matplotlib.pyplot as plt\n",
    "import _pickle as cp"
   ]
  },
  {
   "cell_type": "markdown",
   "metadata": {
    "colab_type": "text",
    "id": "b1-ZQWqTVPno"
   },
   "source": [
    "We will use the winequality dataset for this practical. The dataset is available here:\n",
    "https://archive.ics.uci.edu/ml/datasets/Wine+Quality. \n",
    "In order to make it easier to import the dataset, the dataset has been converted to the numpy array format and shuffled, so that we can start the practical directly. The converted dataset is available on the OLAT page."
   ]
  },
  {
   "cell_type": "markdown",
   "metadata": {
    "colab_type": "text",
    "id": "TzDL9RQiVaPY"
   },
   "source": [
    "The dataset has two files. We’ll focus on the white wine data, which is the larger dataset. The following code loads the data:"
   ]
  },
  {
   "cell_type": "code",
   "execution_count": 2,
   "metadata": {
    "colab": {
     "base_uri": "https://localhost:8080/",
     "height": 51
    },
    "colab_type": "code",
    "executionInfo": {
     "elapsed": 1423,
     "status": "ok",
     "timestamp": 1596436129238,
     "user": {
      "displayName": "Haozhe Zhang",
      "photoUrl": "https://lh3.googleusercontent.com/a-/AOh14GhewCb1FImnjURCLugyfalL8wVXJomnuoEHUckN=s64",
      "userId": "15943369882491692800"
     },
     "user_tz": -480
    },
    "id": "NYkwbebUVO_i",
    "outputId": "80ed8916-85c3-4564-cda8-d8a8f36aaa1d"
   },
   "outputs": [
    {
     "name": "stdout",
     "output_type": "stream",
     "text": [
      "X is a (4898, 11) matrix, which contains 4898 data records and 11 features.\n",
      "y is a 4898-dimentional vector, which stores the corresponding labels of the data records in X\n"
     ]
    }
   ],
   "source": [
    "# load the white wine dataset\n",
    "# X is the feature matrix that stores the feature values of the data records\n",
    "# y is the label vector that stores the labels of the data records\n",
    "X, y = cp.load(open('winequality-white.pickle', 'rb'))\n",
    "\n",
    "# check the size of the data\n",
    "print(\"X is a {} matrix, which contains {} data records and {} features.\".format(X.shape, X.shape[0], X.shape[1]))\n",
    "print(\"y is a {}-dimentional vector, which stores the corresponding labels of the data records in X\".format(y.shape[0]))\n"
   ]
  },
  {
   "cell_type": "markdown",
   "metadata": {
    "colab_type": "text",
    "id": "CGuNg0KbWN0z"
   },
   "source": [
    "We next split the data into training data and test data. \n",
    "In practice, we should sample randomly 80% of the data as training data and the rest as the test data. . \n",
    "However, in order to get consistent results, we use the first 80% of the data as training\n",
    "data and the remaining as the test data. \n",
    "To achieve this split, we define the following function."
   ]
  },
  {
   "cell_type": "code",
   "execution_count": 3,
   "metadata": {
    "colab": {
     "base_uri": "https://localhost:8080/",
     "height": 85
    },
    "colab_type": "code",
    "executionInfo": {
     "elapsed": 1416,
     "status": "ok",
     "timestamp": 1596436129239,
     "user": {
      "displayName": "Haozhe Zhang",
      "photoUrl": "https://lh3.googleusercontent.com/a-/AOh14GhewCb1FImnjURCLugyfalL8wVXJomnuoEHUckN=s64",
      "userId": "15943369882491692800"
     },
     "user_tz": -480
    },
    "id": "6ZqbBa8bWNYg",
    "outputId": "da274c4e-c3ed-4ac0-8442-27befcf26f4c"
   },
   "outputs": [
    {
     "name": "stdout",
     "output_type": "stream",
     "text": [
      "Shape of X_train: (3918, 11)\n",
      "Shape of y_train: (3918,)\n",
      "Shape of X_test: (980, 11)\n",
      "Shape of y_test: (980,)\n"
     ]
    }
   ],
   "source": [
    "# The function splits the dataset into training data and testing data.\n",
    "# The parameter split_coeff is a percentage value such that\n",
    "# the first split_coeff of the dataset goes to the training dataset \n",
    "# and the remaining data goes to the test dataset.\n",
    "def split_data(X, y, split_coeff):\n",
    "    N, _ = X.shape # get the number of records (rows)\n",
    "    train_size = int(split_coeff * N) # use the first split_coeff of the data as the training data\n",
    "    X_train = X[:train_size] # the first training_size records\n",
    "    y_train = y[:train_size]\n",
    "    X_test = X[train_size:] # the last test_size records\n",
    "    y_test = y[train_size:]\n",
    "    return X_train, y_train, X_test, y_test\n",
    "\n",
    "X_train, y_train, X_test, y_test = split_data(X, y, 0.8) # split the data with split_coeff=0.8\n",
    "\n",
    "# check the size of the splitted dataset\n",
    "print(\"Shape of X_train:\", X_train.shape)\n",
    "print(\"Shape of y_train:\", y_train.shape)\n",
    "print(\"Shape of X_test:\", X_test.shape)\n",
    "print(\"Shape of y_test:\", y_test.shape)"
   ]
  },
  {
   "cell_type": "markdown",
   "metadata": {
    "colab_type": "text",
    "id": "q2yKNR49Wkn8"
   },
   "source": [
    "## Understanding What We’re Predicting\n",
    "\n",
    "Let’s first check\n",
    "the distribution of the y-values in the training data. \n",
    "You will find that the values are integers between 3 and 9 indicating the quality of the wine.\n"
   ]
  },
  {
   "cell_type": "markdown",
   "metadata": {
    "colab_type": "text",
    "id": "-PMpsZNSWthB"
   },
   "source": [
    "### **Task 1**\n",
    "Make a bar chart showing the distribution of y-values in the training data. You will find that the y-values are integers from 3 to 9, which indicate the quality of the wines."
   ]
  },
  {
   "cell_type": "code",
   "execution_count": 4,
   "metadata": {
    "cellView": "both",
    "colab": {
     "base_uri": "https://localhost:8080/",
     "height": 295
    },
    "colab_type": "code",
    "executionInfo": {
     "elapsed": 1409,
     "status": "ok",
     "timestamp": 1596436129240,
     "user": {
      "displayName": "Haozhe Zhang",
      "photoUrl": "https://lh3.googleusercontent.com/a-/AOh14GhewCb1FImnjURCLugyfalL8wVXJomnuoEHUckN=s64",
      "userId": "15943369882491692800"
     },
     "user_tz": -480
    },
    "id": "4L_JDK3dWrsR",
    "outputId": "71b22bf6-77ce-4bd6-d5b1-61f633923144"
   },
   "outputs": [
    {
     "data": {
      "image/png": "[encoded data removed]",
      "text/plain": [
       "<Figure size 432x288 with 1 Axes>"
      ]
     },
     "metadata": {
      "needs_background": "light"
     },
     "output_type": "display_data"
    }
   ],
   "source": [
    "#@title\n",
    "# Task 1: \n",
    "# the function takes the y-values in the training data as the input and makes the bar chart. \n",
    "# Hint: Your function should make a bar chart looks like the bar chart below.\n",
    "def plot_bar_chart_score(y_train):\n",
    "    values, counts = np.unique(y_train, return_counts=True)\n",
    "    plt.bar(values, counts)\n",
    "    plt.title(\"Distribution of scores of wines\")\n",
    "    plt.xlabel(\"Score\")\n",
    "    plt.ylabel(\"Number of wines\")\n",
    "    plt.show()\n",
    "    \n",
    "\n",
    "plot_bar_chart_score(y_train)"
   ]
  },
  {
   "cell_type": "markdown",
   "metadata": {
    "colab_type": "text",
    "id": "GxjlElni2FcH"
   },
   "source": [
    "### **Task 2** \n",
    "This task is to build a trivial predictor, which always returns the mean of the y-values of the training data. We consider the trivial model as a baseline. The linear regression models we build later should perform better than this trivial model. "
   ]
  },
  {
   "cell_type": "code",
   "execution_count": 5,
   "metadata": {
    "colab": {
     "base_uri": "https://localhost:8080/",
     "height": 34
    },
    "colab_type": "code",
    "executionInfo": {
     "elapsed": 1402,
     "status": "ok",
     "timestamp": 1596436129240,
     "user": {
      "displayName": "Haozhe Zhang",
      "photoUrl": "https://lh3.googleusercontent.com/a-/AOh14GhewCb1FImnjURCLugyfalL8wVXJomnuoEHUckN=s64",
      "userId": "15943369882491692800"
     },
     "user_tz": -480
    },
    "id": "-V3xFYexX1lt",
    "outputId": "5e57738e-87d5-408c-f1bf-9df66a175f35"
   },
   "outputs": [
    {
     "name": "stdout",
     "output_type": "stream",
     "text": [
      "Average of y on the training label values is 5.878764675855028\n"
     ]
    }
   ],
   "source": [
    "#@title\n",
    "# Task 2: implement the trivial predictor\n",
    "# The function computes the average value of y on the training label values\n",
    "def compute_average(y_train):\n",
    "    average = sum(y_train) / len(y_train)\n",
    "    return average\n",
    "\n",
    "y_train_avg = compute_average(y_train)\n",
    "print(\"Average of y on the training label values is {}\".format(y_train_avg))\n",
    "\n",
    "# The trivial predictor returns the average value.\n",
    "def trivial_predictor(X_test, y_train_avg):\n",
    "  return y_train_avg\n"
   ]
  },
  {
   "cell_type": "markdown",
   "metadata": {
    "colab_type": "text",
    "id": "x531Q_SxXV14"
   },
   "source": [
    "### **Task 3**\n",
    "We next evaluate the trivial predictor on the training data and test data. \n",
    "We use mean squared error (MSE) to measure the performance of the predictor.\n",
    "The task is to implement a function that reports the mean squared error of the given predictor on the given data. "
   ]
  },
  {
   "cell_type": "code",
   "execution_count": 6,
   "metadata": {
    "colab": {
     "base_uri": "https://localhost:8080/",
     "height": 102
    },
    "colab_type": "code",
    "executionInfo": {
     "elapsed": 1394,
     "status": "ok",
     "timestamp": 1596436129240,
     "user": {
      "displayName": "Haozhe Zhang",
      "photoUrl": "https://lh3.googleusercontent.com/a-/AOh14GhewCb1FImnjURCLugyfalL8wVXJomnuoEHUckN=s64",
      "userId": "15943369882491692800"
     },
     "user_tz": -480
    },
    "id": "mV8l6Ci9YlgL",
    "outputId": "f57858dc-d0fc-40fe-dbf7-c652d2f8fddb"
   },
   "outputs": [
    {
     "name": "stdout",
     "output_type": "stream",
     "text": [
      "Trivial Predictor\n",
      "--------------------------------------------------------------------------------\n",
      "\n",
      "MSE (Training) = 0.7768\n",
      "MSE (Testing)  = 0.8139\n"
     ]
    }
   ],
   "source": [
    "# We next test our trivial predictor on the training data and test data. \n",
    "# Implement a function that can report the mean squared error \n",
    "# of a predictor on the given data\n",
    "# Input: data and predictor\n",
    "# Output: mean squared error of the predictor on the given data\n",
    "def test_predictor(X, y, predictor: callable=None):\n",
    "    # Apply the predictor to each row of the matrix X to get the predictions\n",
    "    y_predicted = np.apply_along_axis(predictor, 1, X)\n",
    "    summation = 0\n",
    "    for i in range (0,len(y)):\n",
    "      difference = y[i] - y_predicted[i]  \n",
    "      squared_difference = difference**2\n",
    "      summation = summation + squared_difference\n",
    "    mse = summation / len(y)\n",
    "    return mse\n",
    "\n",
    "# use the function test_predictor to test the trivial predictor\n",
    "# we use the lambda function here to pass the function trivial predictor to the function test_predictor.\n",
    "mse_trivial_predictor_train = test_predictor(X_train, y_train, lambda x: trivial_predictor(x, y_train_avg))\n",
    "mse_trivial_predictor_test = test_predictor(X_test, y_test, lambda x: trivial_predictor(x, y_train_avg))\n",
    "\n",
    "# Report the result\n",
    "print('Trivial Predictor')\n",
    "print('--------------------------------------------------------------------------------\\n')\n",
    "print('MSE (Training) = %.4f' % mse_trivial_predictor_train)\n",
    "print('MSE (Testing)  = %.4f' % mse_trivial_predictor_test)"
   ]
  },
  {
   "cell_type": "markdown",
   "metadata": {
    "colab_type": "text",
    "id": "geiyM1Nea0az"
   },
   "source": [
    "## Train the Linear Model Using Least Squares Method\n",
    "\n",
    "Let us train a linear model on the training data and then check its MSE. \n",
    "We use the closed form solution of the least squares estimate to get the parameters of the linear model. \n",
    "The linear model should perform better than the trivial predictor."
   ]
  },
  {
   "cell_type": "markdown",
   "metadata": {
    "colab_type": "text",
    "id": "WSEwFGp_bqAI"
   },
   "source": [
    "### **Task 4**\n",
    "Before training the model, we need to standardize the data, i.e., transform the data so that every feature has mean 0 and variance 1. \n",
    "\n",
    "https://en.wikipedia.org/wiki/Standard_score\n",
    "\n",
    "We first standardize the training data. \n",
    "Then we apply the same transformation to the test data, i.e. standardize the test data using the means and the standard deviations of the training data. "
   ]
  },
  {
   "cell_type": "code",
   "execution_count": 7,
   "metadata": {
    "colab": {
     "base_uri": "https://localhost:8080/",
     "height": 68
    },
    "colab_type": "code",
    "executionInfo": {
     "elapsed": 1387,
     "status": "ok",
     "timestamp": 1596436129241,
     "user": {
      "displayName": "Haozhe Zhang",
      "photoUrl": "https://lh3.googleusercontent.com/a-/AOh14GhewCb1FImnjURCLugyfalL8wVXJomnuoEHUckN=s64",
      "userId": "15943369882491692800"
     },
     "user_tz": -480
    },
    "id": "trjwkcgybhDH",
    "outputId": "d87a4635-354f-47e2-947a-e843f027e4cb"
   },
   "outputs": [
    {
     "name": "stdout",
     "output_type": "stream",
     "text": [
      "X_train_std: (3918, 11)\n",
      "Mean: 18.450941449139172\n",
      "Standard deviation: 6.103247960280945\n"
     ]
    }
   ],
   "source": [
    "# The task is to implement a function that can standardize the data and returns the mean and std of the data.\n",
    "# Input: training data\n",
    "# Output: standardize training data, standard deviations and means\n",
    "def standardize_data(X):\n",
    "    mean_each_col = X.mean(axis=0)\n",
    "    mean = sum(mean_each_col)/len(mean_each_col)\n",
    "    std_each_col = X.std(axis=0)\n",
    "    std = sum(std_each_col)/len(std_each_col)\n",
    "    X_std = (X - X.mean(axis=0, keepdims=True)) / X.std(axis=0, keepdims=True)\n",
    "    \n",
    "    return X_std, mean, std\n",
    "\n",
    "# Standardize the training data and store the means and the stds \n",
    "X_train_std, X_train_mean, X_train_std_div = standardize_data(X_train)\n",
    "print(\"X_train_std:\", X_train_std.shape)\n",
    "print(\"Mean:\", X_train_mean)\n",
    "print(\"Standard deviation:\", X_train_std_div)"
   ]
  },
  {
   "cell_type": "code",
   "execution_count": 23,
   "metadata": {
    "colab": {
     "base_uri": "https://localhost:8080/",
     "height": 102
    },
    "colab_type": "code",
    "executionInfo": {
     "elapsed": 1380,
     "status": "ok",
     "timestamp": 1596436129242,
     "user": {
      "displayName": "Haozhe Zhang",
      "photoUrl": "https://lh3.googleusercontent.com/a-/AOh14GhewCb1FImnjURCLugyfalL8wVXJomnuoEHUckN=s64",
      "userId": "15943369882491692800"
     },
     "user_tz": -480
    },
    "id": "RjzbA5JpM759",
    "outputId": "ff594788-2fdd-419c-98fa-beac6a53cfc9"
   },
   "outputs": [
    {
     "name": "stdout",
     "output_type": "stream",
     "text": [
      "(980, 11)\n"
     ]
    }
   ],
   "source": [
    "X_test_std = (X_test - X_train_mean) / X_train_std_div\n",
    "print(X_test_std.shape)"
   ]
  },
  {
   "cell_type": "markdown",
   "metadata": {
    "colab_type": "text",
    "id": "cRPPA6HMbNOr"
   },
   "source": [
    "### **Task 5**\n",
    "We have standardized X-values. Do we need to standardize the y-values? Why?"
   ]
  },
  {
   "cell_type": "markdown",
   "metadata": {
    "colab_type": "text",
    "id": "9he5QMmfqL3_"
   },
   "source": [
    "No, the dependent variable y does not have to be standardized. Standardizing y would not do any bad, but could complicate the interpretations of the results.  When performing multiple linear regression, it is recommended to standardize the variables, therefor that the predictors or features have mean zero and standard devation of 1. This makes it then easier to interpret our estimate of Y as the expected value of Y. Moreover, with standardization we make the data unitless and avoid large differences between the ranges of features."
   ]
  },
  {
   "cell_type": "markdown",
   "metadata": {
    "colab_type": "text",
    "id": "vT4_Sl42bxmD"
   },
   "source": [
    "### **Task 6**\n",
    "Let's now train the linear model using the least-squares method. \n",
    "We need to add the bias term to the matrix X. "
   ]
  },
  {
   "cell_type": "code",
   "execution_count": 9,
   "metadata": {
    "colab": {
     "base_uri": "https://localhost:8080/",
     "height": 34
    },
    "colab_type": "code",
    "executionInfo": {
     "elapsed": 1374,
     "status": "ok",
     "timestamp": 1596436129242,
     "user": {
      "displayName": "Haozhe Zhang",
      "photoUrl": "https://lh3.googleusercontent.com/a-/AOh14GhewCb1FImnjURCLugyfalL8wVXJomnuoEHUckN=s64",
      "userId": "15943369882491692800"
     },
     "user_tz": -480
    },
    "id": "A4JtLr6pdJV7",
    "outputId": "dfd57312-284f-4ce9-820b-4fdbdfbec8c4"
   },
   "outputs": [
    {
     "name": "stdout",
     "output_type": "stream",
     "text": [
      "w: (12,)\n"
     ]
    }
   ],
   "source": [
    "# The task is to implement the function that adds a column of ones to the front of the input matrix\n",
    "def expand_with_ones(X):\n",
    "    X_out = np.c_[np.ones(X.shape[0]), X] \n",
    "    return X_out\n",
    "\n",
    "# Train the linear model using the least-squares method\n",
    "# The task is to implement the function that computes the parameters\n",
    "def least_squares_compute_parameters(X_input, y):\n",
    "    # add the bias column to the data\n",
    "    X = expand_with_ones(X_input)\n",
    "    XTX = np.linalg.inv(np.matmul(X.transpose(),X))\n",
    "    XTy = np.matmul(X.transpose(),y)\n",
    "    w = np.matmul(XTX, XTy)\n",
    "    # this one would just be done by package: w = np.linalg.lstsq(X, y, rcond=None)[0]\n",
    "    return w\n",
    "    \n",
    "\n",
    "# Apply the function to train the linear model\n",
    "w = least_squares_compute_parameters(X_train_std, y_train)\n",
    "print(\"w:\", w.shape)"
   ]
  },
  {
   "cell_type": "markdown",
   "metadata": {
    "colab_type": "text",
    "id": "lasj_1PpeZib"
   },
   "source": [
    "After computing the parameters,\n",
    "we can build the linear model predictor.\n",
    "The predictor takes as input the computed parameters and the data, and predicts the labels for the input data."
   ]
  },
  {
   "cell_type": "code",
   "execution_count": 10,
   "metadata": {
    "colab": {},
    "colab_type": "code",
    "id": "Lb-hNagxc3Wj"
   },
   "outputs": [],
   "source": [
    "# Implement the linear model predictor\n",
    "# Input: test data and parameters\n",
    "# Output: predicted values\n",
    "def linear_model_predictor(X, w):\n",
    "    # TODO: predict the labels for the input data\n",
    "    # The code below is just for compilation. \n",
    "    # You need to replace it by your own code.\n",
    "    y_hat = np.matmul(X,w)\n",
    "    return y_hat"
   ]
  },
  {
   "cell_type": "markdown",
   "metadata": {
    "colab_type": "text",
    "id": "cFOYpwbufz7J"
   },
   "source": [
    "We can now evaluate our linear model predictor on the test data. "
   ]
  },
  {
   "cell_type": "code",
   "execution_count": 11,
   "metadata": {
    "colab": {
     "base_uri": "https://localhost:8080/",
     "height": 34
    },
    "colab_type": "code",
    "executionInfo": {
     "elapsed": 1363,
     "status": "ok",
     "timestamp": 1596436129243,
     "user": {
      "displayName": "Haozhe Zhang",
      "photoUrl": "https://lh3.googleusercontent.com/a-/AOh14GhewCb1FImnjURCLugyfalL8wVXJomnuoEHUckN=s64",
      "userId": "15943369882491692800"
     },
     "user_tz": -480
    },
    "id": "LuHHmn2RB55j",
    "outputId": "b6cb4556-2618-419a-a082-214f2e6ecb5e"
   },
   "outputs": [
    {
     "name": "stdout",
     "output_type": "stream",
     "text": [
      "Mean squared error is 0.5620667306625957\n"
     ]
    }
   ],
   "source": [
    "# use the function test_predictor to evaluate the linear model predictor\n",
    "mse_linear_model_predictor = test_predictor(expand_with_ones(X_test_std), y_test, lambda x: linear_model_predictor(x, w))\n",
    "print(\"Mean squared error is {}\".format(mse_linear_model_predictor))"
   ]
  },
  {
   "cell_type": "markdown",
   "metadata": {
    "colab_type": "text",
    "id": "zqj4HKAihF7Q"
   },
   "source": [
    "## Learning Curves\n",
    "\n",
    "Let us check if the linear model is overfitting or underfitting. Since the dataset is somewhat large and there are only 11 features, the model shouldn't be overfitting. \n",
    "To check it, we need to check the learning curves, i.e. how the performance of the model changes when it is trained with increasingly more data. \n",
    "We train the model on the increasingly more data ([20, 40, ..., 600] data records), and evaluate the model by computing the MSE of the model on both the training data and the test data. \n",
    "We use the collected MSE to build the learning curves plot. "
   ]
  },
  {
   "cell_type": "markdown",
   "metadata": {
    "colab_type": "text",
    "id": "MNf11kurCgKF"
   },
   "source": [
    "### **Task 7** \n",
    "\n",
    "Let's first implement a function that comprises what we have implemented above. \n",
    "The function takes as inputs the data and the split coefficient, and\n",
    "1. standardizes the data,\n",
    "2. trains the linear model, and\n",
    "3. reports the mse of the linear model predictor on both training and test datasets. "
   ]
  },
  {
   "cell_type": "code",
   "execution_count": 24,
   "metadata": {
    "colab": {
     "base_uri": "https://localhost:8080/",
     "height": 102
    },
    "colab_type": "code",
    "executionInfo": {
     "elapsed": 1355,
     "status": "ok",
     "timestamp": 1596436129244,
     "user": {
      "displayName": "Haozhe Zhang",
      "photoUrl": "https://lh3.googleusercontent.com/a-/AOh14GhewCb1FImnjURCLugyfalL8wVXJomnuoEHUckN=s64",
      "userId": "15943369882491692800"
     },
     "user_tz": -480
    },
    "id": "UcGRQBrEb106",
    "outputId": "179c5ec0-ee87-4c4b-a02b-d97d55862e1f"
   },
   "outputs": [
    {
     "name": "stdout",
     "output_type": "stream",
     "text": [
      "Linear Model\n",
      "-----------------------\n",
      "\n",
      "MSE (Training) = 0.5640\n",
      "MSE (Testing)  = 1.0531\n"
     ]
    }
   ],
   "source": [
    "# Input: training data and test data\n",
    "# Output: mse of the linear model predictor on both the training and test data\n",
    "def train_and_test(X_train, y_train, X_test, y_test):\n",
    "    # standardize data\n",
    "    X_train_std, X_train_mean, X_train_std_div = standardize_data(X_train)\n",
    "    X_test_std = (X_test - X_train_mean) / X_train_std_div\n",
    "    w = least_squares_compute_parameters(X_train_std, y_train)\n",
    "    # compute MSE\n",
    "    mse_train = test_predictor(expand_with_ones(X_train_std), y_train, lambda x: linear_model_predictor(x, w))\n",
    "    mse_test = test_predictor(expand_with_ones(X_test_std), y_test, lambda x: linear_model_predictor(x, w))\n",
    "    return mse_train, mse_test\n",
    "\n",
    "\n",
    "mse_train, mse_test = train_and_test(X_train, y_train, X_test, y_test)\n",
    "print('Linear Model')\n",
    "print('-----------------------\\n')\n",
    "print('MSE (Training) = %.4f' % mse_train)\n",
    "print('MSE (Testing)  = %.4f' % mse_test)\n"
   ]
  },
  {
   "cell_type": "markdown",
   "metadata": {
    "colab_type": "text",
    "id": "NTJw_BrzhRwi"
   },
   "source": [
    "We are now ready to report the learning curves.\n",
    "The task is to train the linear model on the increasingly more data ([20, 40, ..., 600] data records)\n",
    "and store the MSE of the trained model on the training data and the test data in the lists `mse_train_v` and `mse_test`, respectively. \n",
    "We have provided the code for generating the learning curves from `mse_train_v` and `mse_test`."
   ]
  },
  {
   "cell_type": "code",
   "execution_count": 13,
   "metadata": {
    "colab": {
     "base_uri": "https://localhost:8080/",
     "height": 279
    },
    "colab_type": "code",
    "executionInfo": {
     "elapsed": 1747,
     "status": "ok",
     "timestamp": 1596436129644,
     "user": {
      "displayName": "Haozhe Zhang",
      "photoUrl": "https://lh3.googleusercontent.com/a-/AOh14GhewCb1FImnjURCLugyfalL8wVXJomnuoEHUckN=s64",
      "userId": "15943369882491692800"
     },
     "user_tz": -480
    },
    "id": "jDsdh4T3hcIU",
    "outputId": "621c4890-1c55-4e9b-f28f-33d60907d8b9"
   },
   "outputs": [
    {
     "data": {
      "image/png": "[encoded data removed]",
      "text/plain": [
       "<Figure size 432x288 with 1 Axes>"
      ]
     },
     "metadata": {
      "needs_background": "light"
     },
     "output_type": "display_data"
    }
   ],
   "source": [
    "mse_train_v = []\n",
    "mse_test_v = []\n",
    "\n",
    "TRAINING_SIZE_MAX = 601\n",
    "TRAINING_SIZE_MIN = 20\n",
    "\n",
    "# compute the MSE over data with sizes from TRAINING_SIZE_MIN to TRAINING_SIZE_MAX with increasing step 20\n",
    "for train_size in range(TRAINING_SIZE_MIN, TRAINING_SIZE_MAX, 20):\n",
    "    # TODO: \n",
    "    #   1. use the first train_size data records from the X_train and y_train as the training data\n",
    "    X_train_split, y_train_split, X_test_split, y_test_split = split_data(X, y, train_size/X.shape[0])\n",
    "    #   2. train and compute the MSE on both training and test data using the train_and_test function\n",
    "    mse_train, mse_test = train_and_test(X_train_split, y_train_split, X_test_split, y_test_split)\n",
    "    #   3. add the computed MSE to the lists mse_train_v and mse_test_v\n",
    "    mse_train_v.append(mse_train)\n",
    "    mse_test_v.append(mse_test)\n",
    "\n",
    "    \n",
    "\n",
    "# The below code generates the learning curves plot\n",
    "plt.figure(2)\n",
    "plt.plot(np.arange(TRAINING_SIZE_MIN, TRAINING_SIZE_MAX, 20), mse_train_v, 'r--', label=\"Training Error\")\n",
    "plt.plot(np.arange(TRAINING_SIZE_MIN, TRAINING_SIZE_MAX, 20), mse_test_v, 'b-', label=\"Test Error\")\n",
    "plt.xlabel('Dataset Size')\n",
    "plt.ylabel('Mean Squared Error')\n",
    "plt.legend() # I added this because legend was not shown\n",
    "plt.show()"
   ]
  },
  {
   "cell_type": "markdown",
   "metadata": {},
   "source": [
    "### **Task 8**\n",
    "Explain whether you think the model is underfitting or not and how much data you need before getting the optimal test error."
   ]
  },
  {
   "cell_type": "markdown",
   "metadata": {
    "colab_type": "text",
    "id": "9A9VqDTzOdfd"
   },
   "source": [
    "We see a convergence of training and test error already at a low dataset size, which is a good indication that our model fits well. From a dataset size of about 250 the model is already fitted well and additional data does not bring any valuable information. After this threshold our model is not capable of further learning and there are no further improvements. We can conclude that our model is not underfitting since it is able to obtain a sufficiently low mean squared error on the training data set and keeps this low error when testing the model. Due to this explanation we are suggesting that for training the model optimally a dataset size between 250 and 300 would be enough. "
   ]
  },
  {
   "cell_type": "markdown",
   "metadata": {
    "colab_type": "text",
    "id": "djpsaTu_kK3T"
   },
   "source": [
    "## Polynomial Basis Expansion and Regularisation\n",
    "\n",
    "In this part, we will try to improve the linear model by basis expansion and regularisation. \n",
    "\n",
    "The task is to \n",
    "1. apply the degree 2 basis expansion to the data, \n",
    "2. build the Ridge and Lasso models using scikit-learn, and\n",
    "3. perform hyperparameter optimization to find the optimal hyperparameter lambda. \n",
    "\n",
    "For the hyperparameter optimization, you should set the last 20% of the training data for the purpose of validation and \n",
    "try lambda values [10^-4, 10^-3, 10^-2, 10^-1, 1, 10, 100]. \n",
    "\n",
    "\n",
    "We will use the scikit-learn package. You can import other scikit-learn packages if you think they are useful. Read the documentation available here: http://scikit-learn.org/stable/modules/classes.html"
   ]
  },
  {
   "cell_type": "code",
   "execution_count": 14,
   "metadata": {
    "colab": {},
    "colab_type": "code",
    "id": "9TM0nkNbkhfM"
   },
   "outputs": [],
   "source": [
    "# import the preprocessing libs for standarization and basis expansion\n",
    "from sklearn.preprocessing import StandardScaler, PolynomialFeatures \n",
    "\n",
    "# Ridge and Lasso linear model\n",
    "from sklearn.linear_model import Ridge, Lasso \n",
    "\n",
    "# MSE\n",
    "from sklearn.metrics import mean_squared_error"
   ]
  },
  {
   "cell_type": "markdown",
   "metadata": {
    "colab_type": "text",
    "id": "pCwBPuOXlRF7"
   },
   "source": [
    "### **Task 9**\n",
    "Let's implement the function for expanding the basis of the dataset. \n",
    "\n",
    "Hints: use `PolynomialFeatures`"
   ]
  },
  {
   "cell_type": "code",
   "execution_count": 15,
   "metadata": {
    "colab": {},
    "colab_type": "code",
    "id": "50azFolql1qA"
   },
   "outputs": [],
   "source": [
    "def expand_basis(X, degree):\n",
    "    poly = PolynomialFeatures(degree = degree)\n",
    "    X = poly.fit_transform(X)\n",
    "    return X"
   ]
  },
  {
   "cell_type": "markdown",
   "metadata": {
    "colab_type": "text",
    "id": "6jwkPevimQri"
   },
   "source": [
    "### **Task 10**\n",
    "We need to expand and standardize the the data,\n",
    "and prepare the training, test and validation data on the expanded data. \n",
    "You should set the last 20% of the training data as the validation data.\n",
    "\n",
    "Hints: use `StandardScaler` and `std_scaler` to standardize the data"
   ]
  },
  {
   "cell_type": "code",
   "execution_count": 16,
   "metadata": {
    "colab": {},
    "colab_type": "code",
    "id": "dQCq4G9YmW7w"
   },
   "outputs": [],
   "source": [
    "def prepare_data(X, y, degree):\n",
    "    # TODO: the training, test and validation data using the expanded dataset.\n",
    "    # Hints: follow the steps     \n",
    "    # 1. split the data (X, y) into training data (X_train, y_train) and test data (X_test, y_test)\n",
    "    X_train, y_train, X_test, y_test = split_data(X, y, 0.8)\n",
    "    \n",
    "    # 2. standardize the training data and do the same transformation to the test data\n",
    "    X_train_std = StandardScaler().fit_transform(X_train)\n",
    "    X_test_std = StandardScaler().fit_transform(X_test)\n",
    "    \n",
    "    # 3. expand the basis of the training data and test data\n",
    "    X_train_expanded = expand_basis(X_train_std, degree)\n",
    "    X_test_expanded = expand_basis(X_test_std, degree)\n",
    "    \n",
    "    # 4. split the expanded training data into training data (X_train_n, y_train_n) and validation data (X_train_v, y_train_v)\n",
    "    X_train_n, y_train_n, X_train_v, y_train_v = split_data(X_train_expanded, y_train, 0.8)\n",
    "    \n",
    "    # 5. standardize the training data and do the same transformation to the validation data\n",
    "    X_train_n_std = StandardScaler().fit_transform(X_train_n)\n",
    "    X_train_v_std = StandardScaler().fit_transform(X_train_v)\n",
    "    \n",
    "    X_test_std = StandardScaler().fit_transform(X_test_expanded)\n",
    "\n",
    "    # test data\n",
    "    X_test = X_test_std\n",
    "    y_test = y_test\n",
    "\n",
    "    # further split the training data to training and validation data\n",
    "    # training data\n",
    "    X_train_n = X_train_n_std\n",
    "    y_train_n = y_train_n\n",
    "\n",
    "    # validation data\n",
    "    X_train_v = X_train_v_std\n",
    "    y_train_v = y_train_v\n",
    "\n",
    "    return X_train_n, y_train_n, X_train_v, y_train_v, X_test, y_test\n",
    "\n",
    "\n",
    "X_train_n, y_train_n, X_train_v, y_train_v, X_test, y_test = prepare_data(X, y, 2) # here we expand the dataset with degree 2"
   ]
  },
  {
   "cell_type": "markdown",
   "metadata": {},
   "source": [
    "**Why standardisation is required before basis expansion?**\n",
    "\n",
    "Assume we have a dataset with two features x1 and x2, where x1 has a small scale while x2 has a large scale. When we perform basis expansion, we  get a new feature x1x2. Since x2 has a larger scale than x1, it is likely x2 will contribute more to the value of the new feature x1x2, which means a bias is introduce here. \n",
    "The correct way is to standardise the features before the basis expansion. In this case x1 and x2 have the same scale, so they contribute same to the new feature x1x2, i.e. no bias is introduced. \n",
    "\n",
    "\n",
    "**Why standardise the training data in step 5?**\n",
    "\n",
    "Ridge and Lasso regularisation require the data to have mean of 0 and standard deviation of 1. However, after the basis expansion and splitting in step 4, the training data might not have the desired distribution, so we need to perform the standardisation on the training data. \n",
    "\n",
    " \n",
    "**Why not standardise both training and validation data together?**\n",
    "\n",
    "When we use validation data to chose the hyperparameters, we treat the validation data like the test data -- we should not assume we can access these data. So we should standardise the training data and perform the same operation to the validation data. "
   ]
  },
  {
   "cell_type": "markdown",
   "metadata": {
    "colab_type": "text",
    "id": "i3BxxtM3nghU"
   },
   "source": [
    "### **Task 11**\n",
    "We have prepared the training data and the validation data. We can now choose the hyperparameter lambda for Ridge and Lasso using the validation data. \n",
    "We use the Ridge and Lasso models from scikit-learn: https://scikit-learn.org/stable/modules/generated/sklearn.linear_model.Ridge.html\n",
    "\n",
    "We train Ridge or Lasso models with different lambda values and check their performance on the validation data.\n",
    "The lambda value that results the best performance is then the optimal lambda. "
   ]
  },
  {
   "cell_type": "code",
   "execution_count": 17,
   "metadata": {
    "colab": {
     "base_uri": "https://localhost:8080/",
     "height": 555
    },
    "colab_type": "code",
    "executionInfo": {
     "elapsed": 3266,
     "status": "ok",
     "timestamp": 1596436131187,
     "user": {
      "displayName": "Haozhe Zhang",
      "photoUrl": "https://lh3.googleusercontent.com/a-/AOh14GhewCb1FImnjURCLugyfalL8wVXJomnuoEHUckN=s64",
      "userId": "15943369882491692800"
     },
     "user_tz": -480
    },
    "id": "SvXcAGW1oHq1",
    "outputId": "25a38d1f-013f-4b0a-9cbb-3f08b68c0371"
   },
   "outputs": [
    {
     "name": "stdout",
     "output_type": "stream",
     "text": [
      "Ridge lambda: 100\n",
      "Lasso lambda: 0.01\n"
     ]
    },
    {
     "data": {
      "image/png": "[encoded data removed]",
      "text/plain": [
       "<Figure size 432x288 with 1 Axes>"
      ]
     },
     "metadata": {
      "needs_background": "light"
     },
     "output_type": "display_data"
    },
    {
     "data": {
      "image/png": "[encoded data removed]",
      "text/plain": [
       "<Figure size 432x288 with 1 Axes>"
      ]
     },
     "metadata": {
      "needs_background": "light"
     },
     "output_type": "display_data"
    }
   ],
   "source": [
    "# The function takes the training and validation data as inputs, and \n",
    "# returns the lambda value that results the minimal mse\n",
    "# We use is_ridge to indicate which the model is considered.\n",
    "# is_ridge = True indicates Ridge while is_ridge = False indicates Lasso\n",
    "def choose_hyper_param(X_train_n, y_train_n, X_train_v, y_train_v, is_ridge: bool):\n",
    "    mse_arr = []\n",
    "    lam_arr = []\n",
    "\n",
    "    # Try lambda values from 10^-4 to 10^2. \n",
    "    # Record the mse and the lambda values in mse_arr and lam_arr\n",
    "    # The code below is just for compilation. \n",
    "    # You need to replace it by your own code.\n",
    "    ###################################################\n",
    "    ##### YOUR CODE STARTS HERE #######################\n",
    "    ###################################################\n",
    "    \n",
    "    for pow_lam in range(-4, 3):\n",
    "        lam = 10 ** pow_lam\n",
    "        if is_ridge == True:\n",
    "            ridge = Ridge(alpha = lam, tol=1e-1)\n",
    "            regression = ridge.fit(X_train_n, y_train_n)\n",
    "            y_predicted = regression.predict(X_train_v)\n",
    "            mse = mean_squared_error(y_train_v, y_predicted) # compute the mse for this lam\n",
    "            mse_arr.append(mse) \n",
    "            lam_arr.append(lam)\n",
    "        else: # if its Lasso\n",
    "            lasso = Lasso(alpha = lam, tol=1e-1)\n",
    "            regression = lasso.fit(X_train_n, y_train_n)\n",
    "            y_predicted = regression.predict(X_train_v)\n",
    "            mse = mean_squared_error(y_train_v, y_predicted) # compute the mse for this lam\n",
    "            mse_arr.append(mse) \n",
    "            lam_arr.append(lam)\n",
    "    ###################################################\n",
    "    ##### YOUR CODE ENDS HERE #########################\n",
    "    ###################################################\n",
    "\n",
    "    # get the index of the lambda value that has the minimal use\n",
    "    lambda_idx_min = np.argmin(np.array(mse_arr))\n",
    "\n",
    "    # plot of the lambda values and their mse\n",
    "    plt.figure()\n",
    "    plt.semilogx(lam_arr, mse_arr)\n",
    "\n",
    "    # return the optimal lambda value\n",
    "    return lam_arr[lambda_idx_min]\n",
    "\n",
    "# call the function to choose the lambda for Ridge and Lasso\n",
    "lam_ridge = choose_hyper_param(X_train_n, y_train_n, X_train_v, y_train_v, True)\n",
    "lam_lasso = choose_hyper_param(X_train_n, y_train_n, X_train_v, y_train_v, False)\n",
    "\n",
    "print(\"Ridge lambda:\", lam_ridge)\n",
    "print(\"Lasso lambda:\", lam_lasso)"
   ]
  },
  {
   "cell_type": "markdown",
   "metadata": {
    "colab_type": "text",
    "id": "FAuX0uU5k9qD"
   },
   "source": [
    "### **Task 12**:\n",
    "Once you’ve obtained the optimal lambdas for Ridge and Lasso, train these models using these lambdas on the full training data. Then report\n",
    "the training and test error."
   ]
  },
  {
   "cell_type": "code",
   "execution_count": 18,
   "metadata": {
    "colab": {
     "base_uri": "https://localhost:8080/",
     "height": 221
    },
    "colab_type": "code",
    "executionInfo": {
     "elapsed": 3259,
     "status": "ok",
     "timestamp": 1596436131187,
     "user": {
      "displayName": "Haozhe Zhang",
      "photoUrl": "https://lh3.googleusercontent.com/a-/AOh14GhewCb1FImnjURCLugyfalL8wVXJomnuoEHUckN=s64",
      "userId": "15943369882491692800"
     },
     "user_tz": -480
    },
    "id": "VmwHESkg77zK",
    "outputId": "9bb9c1cf-1649-40e6-9162-2244525d9446"
   },
   "outputs": [
    {
     "name": "stdout",
     "output_type": "stream",
     "text": [
      "For Ridge Regression with using degree 2 polynomial expansion and lambda = 100.0000\n",
      "--------------------------------------------------------------------------------\n",
      "\n",
      "MSE (Training) = 0.5919\n",
      "MSE (Testing)  = 0.6051\n",
      "\n",
      "\n",
      "For Lasso with using degree 2 polynomial expansion and lambda = 0.0100\n",
      "---------------------------------------------------------------------\n",
      "\n",
      "MSE (Training) = 0.5860\n",
      "MSE (Testing)  = 0.5805\n"
     ]
    }
   ],
   "source": [
    "# TODO: train the Ridge and Lasso models using the optimal parameters, and\n",
    "#       report their MSE\n",
    "###################################################\n",
    "##### YOUR CODE STARTS HERE #######################\n",
    "###################################################\n",
    "# Hints: train these models on the full training data\n",
    "# Ridge training\n",
    "ridge = Ridge(alpha = lam_ridge, tol=1e-1)\n",
    "regression_ridge_train = ridge.fit(X_train, y_train)\n",
    "y_predicted_ridge_train = regression_ridge_train.predict(X_train)\n",
    "mse_ridge_train = mean_squared_error(y_train, y_predicted_ridge_train)\n",
    "# Ridge testing\n",
    "regression_ridge_test = ridge.fit(X_test, y_test)\n",
    "y_predicted_ridge_test = regression_ridge_test.predict(X_test)\n",
    "mse_ridge_test = mean_squared_error(y_test, y_predicted_ridge_test)\n",
    "\n",
    "# Lasso training\n",
    "lasso = Lasso(alpha = lam_lasso, tol=1e-1)\n",
    "regression_lasso_train = lasso.fit(X_train, y_train)\n",
    "y_predicted_lasso_train = regression_lasso_train.predict(X_train)\n",
    "mse_lasso_train = mean_squared_error(y_train, y_predicted_lasso_train)\n",
    "# Lasso testing\n",
    "regression_lasso_test = lasso.fit(X_test, y_test)\n",
    "y_predicted_lasso_test = regression_lasso_test.predict(X_test)\n",
    "mse_lasso_test = mean_squared_error(y_test, y_predicted_lasso_test)\n",
    "\n",
    "###################################################\n",
    "##### YOUR CODE ENDS HERE #########################\n",
    "###################################################\n",
    "\n",
    "# Report the result\n",
    "print('For Ridge Regression with using degree %d polynomial expansion and lambda = %.4f' % (2, lam_ridge))\n",
    "print('--------------------------------------------------------------------------------\\n')\n",
    "print('MSE (Training) = %.4f' % mse_ridge_train)\n",
    "print('MSE (Testing)  = %.4f' % mse_ridge_test)\n",
    "\n",
    "print('\\n\\nFor Lasso with using degree %d polynomial expansion and lambda = %.4f' % (2, lam_lasso))\n",
    "print('---------------------------------------------------------------------\\n')\n",
    "print('MSE (Training) = %.4f' % mse_lasso_train)\n",
    "print('MSE (Testing)  = %.4f' % mse_lasso_test)"
   ]
  },
  {
   "cell_type": "markdown",
   "metadata": {
    "colab_type": "text",
    "id": "Os9tKKLd8gMU"
   },
   "source": [
    "## Optional: Try Larger Degrees using K-fold Cross Validation\n",
    "\n"
   ]
  },
  {
   "cell_type": "markdown",
   "metadata": {
    "colab_type": "text",
    "id": "sfqRAlv1PBXi"
   },
   "source": [
    "### **Task 13**\n",
    "This is an optional task, which worths 5 bonus points.\n",
    "\n",
    "The task is to try basis expansions with higher degrees (up to degree 4) and find the degree that results the best performance. \n",
    "Instead of always using the same validation set, you should use k-fold cross validation to find the optimal hyperparameters. \n",
    "You should report the optimal hyperparameters (the basis expansion degree and the lambdas) and the MSE of the Ridge and Lasso when you apply the optimal hyperparameters. \n",
    "\n",
    "Hints: Use `KFold` to do this automatically. "
   ]
  },
  {
   "cell_type": "code",
   "execution_count": 19,
   "metadata": {
    "colab": {},
    "colab_type": "code",
    "id": "kpwY7UtQ8l-0"
   },
   "outputs": [],
   "source": [
    "# KFold\n",
    "from sklearn.model_selection import KFold\n",
    "\n",
    "# TODO: Try using higher degree basis expansion. Find the degree that gives the minimal mse. \n",
    "###################################################\n",
    "##### YOUR CODE STARTS HERE #######################\n",
    "###################################################\n",
    "# Hints: use KFold\n",
    "\n",
    "def hyperparameter_search_lamda(X_train, y_train, is_ridge:bool):\n",
    "    '''\n",
    "    find opitimal lamda for ridge/lasso with k-fold\n",
    "    '''\n",
    "    mse_lambda_list = []\n",
    "    lam_list = []\n",
    "\n",
    "    for lam in range(-4, 3):\n",
    "        lamda = 10 ** lam\n",
    "        kf = KFold(n_splits=5, shuffle=False)\n",
    "        mse_kfold_list=[]\n",
    "        for train_index, test_index in kf.split(X_train):\n",
    "            X_train_n, X_train_v = X_train[train_index], X_train[test_index]\n",
    "            y_train_n, y_train_v = y_train[train_index], y_train[test_index]\n",
    "            \n",
    "            if is_ridge:\n",
    "                model=Ridge(lamda)\n",
    "            else:\n",
    "                model=Lasso(lamda)\n",
    "                \n",
    "            model.fit(X_train_n,y_train_n)\n",
    "            y_predict_v= model.predict(X_train_v)\n",
    "            mse_fold=mean_squared_error(y_train_v,y_predict_v)\n",
    "            mse_kfold_list.append(mse_fold)\n",
    "            \n",
    "        #keep average mse for each lambda    \n",
    "        mse_lambda=np.mean(mse_kfold_list)\n",
    "        mse_lambda_list.append(mse_lambda)\n",
    "        lam_list.append(lamda)\n",
    "        \n",
    "    #find index of the optimal lambda    \n",
    "    lambda_idx_min = np.argmin(np.array(mse_lambda_list))\n",
    "    \n",
    "    #find the optimal lambda\n",
    "    best_lambda=lam_list[lambda_idx_min]\n",
    "    \n",
    "    return best_lambda\n",
    "\n",
    "def hyperparameter_search_degree(X, y, is_ridge:bool):\n",
    "    '''\n",
    "    find opitimal degree basis and lamda for ridge/lasso with k-fold\n",
    "    '''\n",
    "    #higher degree basis expansion\n",
    "    best_lamda_list=[]\n",
    "    deg_list=[]\n",
    "    mse_deg_list=[]\n",
    "\n",
    "    X_train, y_train, _, _ = split_data(X, y, 0.8)\n",
    "    # standardise before expansion\n",
    "    X_train_std = StandardScaler().fit_transform(X_train)\n",
    "    \n",
    "    mse_kfold_list=[]\n",
    "    kf = KFold(n_splits=5,shuffle=False)\n",
    "    for deg in range(2,5):\n",
    "        \n",
    "        #expand\n",
    "        X_expanded=expand_basis(X_train_std,deg)\n",
    "\n",
    "        for train_index, test_index in kf.split(X_expanded):\n",
    "            X_train_n, X_train_v = X_expanded[train_index], X_expanded[test_index]\n",
    "            y_train_n, y_train_v = y_train[train_index], y_train[test_index]\n",
    "            \n",
    "            #standardise again after expansion\n",
    "            X_train_n=StandardScaler().fit_transform(X_train_n)\n",
    "            X_train_v=StandardScaler().fit_transform(X_train_v) \n",
    "            \n",
    "            #hyperparameter search for lamda\n",
    "            best_lambda=hyperparameter_search_lamda(X_train_n,y_train_n,is_ridge)\n",
    "            best_lamda_list.append(best_lambda)\n",
    "            \n",
    "            #train model with Ridge on train set with best lambda\n",
    "            if is_ridge:\n",
    "                model=Ridge(best_lambda)\n",
    "            else:\n",
    "                model=Lasso(best_lambda, tol=5e-1, max_iter=1000)\n",
    "\n",
    "            model.fit(X_train_n,y_train_n)\n",
    "            y_predict_test= model.predict(X_train_v)\n",
    "            mse_deg=mean_squared_error(y_train_v,y_predict_test)\n",
    "            mse_kfold_list.append(mse_deg)\n",
    "        \n",
    "        mse_deg_list.append(np.mean(mse_kfold_list))\n",
    "        deg_list.append(deg)\n",
    "\n",
    "    # print out MSE of different combinations of lamda and degree\n",
    "    if is_ridge:\n",
    "        print('Hyperparameter Searching Results for Ridge: ')\n",
    "        print('-------------------------------------------\\n')\n",
    "    else:\n",
    "        print('Hyperparameter Searching Results for Lasso: ')\n",
    "        print('-------------------------------------------\\n')\n",
    "        \n",
    "    degree_idx_min=np.argmin(np.array(mse_deg_list))    \n",
    "    print(\"Optimal parameters: Basis degree %d and lamda %.4f with minimal mse=%.4f\\n\"%(deg_list[degree_idx_min],best_lamda_list[degree_idx_min], mse_deg_list[degree_idx_min]))   \n",
    "\n",
    "    for i in range(3):\n",
    "        print('MSE for degree %d polynomial expansion and lambda = %.4f: %.4f\\n'% (deg_list[i], best_lamda_list[i],mse_deg_list[i]))\n",
    "\n",
    "\n",
    "###################################################\n",
    "##### YOUR CODE ENDS HERE #########################\n",
    "###################################################"
   ]
  },
  {
   "cell_type": "markdown",
   "metadata": {},
   "source": [
    "### **Quick Explanation**\n",
    "The hyperparameter_search_degree() function loops through the degrees of possible basis expansions. For each degree it expands the training data, standardizes it and splits the data in 5 folds. Then when the data is prepared, the hyperparameter_search_lamda() function is called to find the optimal lambda for the current basis expansion. It only keeps the best lambda for this expansion, which means the one leading to lowest MSE. The functions then prints the optimal parameters overall and as well the optimal lambda for each basis expansion in the degree range of 2 to 4 with its corresponding MSE. "
   ]
  },
  {
   "cell_type": "code",
   "execution_count": 20,
   "metadata": {},
   "outputs": [
    {
     "name": "stdout",
     "output_type": "stream",
     "text": [
      "Hyperparameter Searching Results for Ridge: \n",
      "-------------------------------------------\n",
      "\n",
      "Optimal parameters: Basis degree 3 and lamda 100.0000 with minimal mse=0.5881\n",
      "\n",
      "MSE for degree 2 polynomial expansion and lambda = 0.0100: 0.6176\n",
      "\n",
      "MSE for degree 3 polynomial expansion and lambda = 100.0000: 0.5881\n",
      "\n",
      "MSE for degree 4 polynomial expansion and lambda = 10.0000: 0.6513\n",
      "\n"
     ]
    }
   ],
   "source": [
    "# Hyperparameter Searching Results for Ridge\n",
    "hyperparameter_search_degree(X, y, is_ridge=True)"
   ]
  },
  {
   "cell_type": "code",
   "execution_count": 21,
   "metadata": {},
   "outputs": [
    {
     "name": "stderr",
     "output_type": "stream",
     "text": [
      "C:\\Anaconda\\lib\\site-packages\\sklearn\\linear_model\\_coordinate_descent.py:529: ConvergenceWarning: Objective did not converge. You might want to increase the number of iterations. Duality gap: 8.634844974434827, tolerance: 0.19493394495412839\n",
      "  model = cd_fast.enet_coordinate_descent(\n",
      "C:\\Anaconda\\lib\\site-packages\\sklearn\\linear_model\\_coordinate_descent.py:529: ConvergenceWarning: Objective did not converge. You might want to increase the number of iterations. Duality gap: 116.63973628310373, tolerance: 0.1898409254088552\n",
      "  model = cd_fast.enet_coordinate_descent(\n",
      "C:\\Anaconda\\lib\\site-packages\\sklearn\\linear_model\\_coordinate_descent.py:529: ConvergenceWarning: Objective did not converge. You might want to increase the number of iterations. Duality gap: 82.08334014031016, tolerance: 0.1939522138013562\n",
      "  model = cd_fast.enet_coordinate_descent(\n",
      "C:\\Anaconda\\lib\\site-packages\\sklearn\\linear_model\\_coordinate_descent.py:529: ConvergenceWarning: Objective did not converge. You might want to increase the number of iterations. Duality gap: 43.30664576759307, tolerance: 0.1942051036682615\n",
      "  model = cd_fast.enet_coordinate_descent(\n",
      "C:\\Anaconda\\lib\\site-packages\\sklearn\\linear_model\\_coordinate_descent.py:529: ConvergenceWarning: Objective did not converge. You might want to increase the number of iterations. Duality gap: 1.9289433589990495, tolerance: 0.1942051036682615\n",
      "  model = cd_fast.enet_coordinate_descent(\n",
      "C:\\Anaconda\\lib\\site-packages\\sklearn\\linear_model\\_coordinate_descent.py:529: ConvergenceWarning: Objective did not converge. You might want to increase the number of iterations. Duality gap: 14.198464288754167, tolerance: 0.19896146788990823\n",
      "  model = cd_fast.enet_coordinate_descent(\n",
      "C:\\Anaconda\\lib\\site-packages\\sklearn\\linear_model\\_coordinate_descent.py:529: ConvergenceWarning: Objective did not converge. You might want to increase the number of iterations. Duality gap: 90.18432080910907, tolerance: 0.1997053849222179\n",
      "  model = cd_fast.enet_coordinate_descent(\n",
      "C:\\Anaconda\\lib\\site-packages\\sklearn\\linear_model\\_coordinate_descent.py:529: ConvergenceWarning: Objective did not converge. You might want to increase the number of iterations. Duality gap: 61.837763421752584, tolerance: 0.1951339449541284\n",
      "  model = cd_fast.enet_coordinate_descent(\n",
      "C:\\Anaconda\\lib\\site-packages\\sklearn\\linear_model\\_coordinate_descent.py:529: ConvergenceWarning: Objective did not converge. You might want to increase the number of iterations. Duality gap: 87.72253918383637, tolerance: 0.19920534503390505\n",
      "  model = cd_fast.enet_coordinate_descent(\n",
      "C:\\Anaconda\\lib\\site-packages\\sklearn\\linear_model\\_coordinate_descent.py:529: ConvergenceWarning: Objective did not converge. You might want to increase the number of iterations. Duality gap: 20.038095961546674, tolerance: 0.19951866028708132\n",
      "  model = cd_fast.enet_coordinate_descent(\n",
      "C:\\Anaconda\\lib\\site-packages\\sklearn\\linear_model\\_coordinate_descent.py:529: ConvergenceWarning: Objective did not converge. You might want to increase the number of iterations. Duality gap: 11.13768168357592, tolerance: 0.1930727562824094\n",
      "  model = cd_fast.enet_coordinate_descent(\n",
      "C:\\Anaconda\\lib\\site-packages\\sklearn\\linear_model\\_coordinate_descent.py:529: ConvergenceWarning: Objective did not converge. You might want to increase the number of iterations. Duality gap: 0.4911269802589686, tolerance: 0.1967053849222179\n",
      "  model = cd_fast.enet_coordinate_descent(\n",
      "C:\\Anaconda\\lib\\site-packages\\sklearn\\linear_model\\_coordinate_descent.py:529: ConvergenceWarning: Objective did not converge. You might want to increase the number of iterations. Duality gap: 27.64791770474369, tolerance: 0.19223789389708815\n",
      "  model = cd_fast.enet_coordinate_descent(\n",
      "C:\\Anaconda\\lib\\site-packages\\sklearn\\linear_model\\_coordinate_descent.py:529: ConvergenceWarning: Objective did not converge. You might want to increase the number of iterations. Duality gap: 18.614221225540632, tolerance: 0.19331727163940957\n",
      "  model = cd_fast.enet_coordinate_descent(\n",
      "C:\\Anaconda\\lib\\site-packages\\sklearn\\linear_model\\_coordinate_descent.py:529: ConvergenceWarning: Objective did not converge. You might want to increase the number of iterations. Duality gap: 243.7151240232643, tolerance: 0.1936185007974481\n",
      "  model = cd_fast.enet_coordinate_descent(\n",
      "C:\\Anaconda\\lib\\site-packages\\sklearn\\linear_model\\_coordinate_descent.py:529: ConvergenceWarning: Objective did not converge. You might want to increase the number of iterations. Duality gap: 2.7124461789023826, tolerance: 0.19331727163940957\n",
      "  model = cd_fast.enet_coordinate_descent(\n",
      "C:\\Anaconda\\lib\\site-packages\\sklearn\\linear_model\\_coordinate_descent.py:529: ConvergenceWarning: Objective did not converge. You might want to increase the number of iterations. Duality gap: 0.502944672353351, tolerance: 0.1936185007974481\n",
      "  model = cd_fast.enet_coordinate_descent(\n",
      "C:\\Anaconda\\lib\\site-packages\\sklearn\\linear_model\\_coordinate_descent.py:529: ConvergenceWarning: Objective did not converge. You might want to increase the number of iterations. Duality gap: 146.74856036071094, tolerance: 0.1923535885167464\n",
      "  model = cd_fast.enet_coordinate_descent(\n",
      "C:\\Anaconda\\lib\\site-packages\\sklearn\\linear_model\\_coordinate_descent.py:529: ConvergenceWarning: Objective did not converge. You might want to increase the number of iterations. Duality gap: 8.454355688434134, tolerance: 0.19598289473684208\n",
      "  model = cd_fast.enet_coordinate_descent(\n",
      "C:\\Anaconda\\lib\\site-packages\\sklearn\\linear_model\\_coordinate_descent.py:529: ConvergenceWarning: Objective did not converge. You might want to increase the number of iterations. Duality gap: 70.15329921236969, tolerance: 0.19264673046251987\n",
      "  model = cd_fast.enet_coordinate_descent(\n",
      "C:\\Anaconda\\lib\\site-packages\\sklearn\\linear_model\\_coordinate_descent.py:529: ConvergenceWarning: Objective did not converge. You might want to increase the number of iterations. Duality gap: 95.49521885331899, tolerance: 0.19219086921850073\n",
      "  model = cd_fast.enet_coordinate_descent(\n",
      "C:\\Anaconda\\lib\\site-packages\\sklearn\\linear_model\\_coordinate_descent.py:529: ConvergenceWarning: Objective did not converge. You might want to increase the number of iterations. Duality gap: 168.11606965346425, tolerance: 0.19285789473684223\n",
      "  model = cd_fast.enet_coordinate_descent(\n",
      "C:\\Anaconda\\lib\\site-packages\\sklearn\\linear_model\\_coordinate_descent.py:529: ConvergenceWarning: Objective did not converge. You might want to increase the number of iterations. Duality gap: 1.5334580554269905, tolerance: 0.19219086921850073\n",
      "  model = cd_fast.enet_coordinate_descent(\n",
      "C:\\Anaconda\\lib\\site-packages\\sklearn\\linear_model\\_coordinate_descent.py:529: ConvergenceWarning: Objective did not converge. You might want to increase the number of iterations. Duality gap: 4.143865255689207, tolerance: 0.19285789473684223\n",
      "  model = cd_fast.enet_coordinate_descent(\n",
      "C:\\Anaconda\\lib\\site-packages\\sklearn\\linear_model\\_coordinate_descent.py:529: ConvergenceWarning: Objective did not converge. You might want to increase the number of iterations. Duality gap: 89.68616288055557, tolerance: 0.19338417065390742\n",
      "  model = cd_fast.enet_coordinate_descent(\n",
      "C:\\Anaconda\\lib\\site-packages\\sklearn\\linear_model\\_coordinate_descent.py:529: ConvergenceWarning: Objective did not converge. You might want to increase the number of iterations. Duality gap: 2.313503248051802, tolerance: 0.19700510366826152\n",
      "  model = cd_fast.enet_coordinate_descent(\n",
      "C:\\Anaconda\\lib\\site-packages\\sklearn\\linear_model\\_coordinate_descent.py:529: ConvergenceWarning: Objective did not converge. You might want to increase the number of iterations. Duality gap: 149.9777737711263, tolerance: 0.19368847687400326\n",
      "  model = cd_fast.enet_coordinate_descent(\n",
      "C:\\Anaconda\\lib\\site-packages\\sklearn\\linear_model\\_coordinate_descent.py:529: ConvergenceWarning: Objective did not converge. You might want to increase the number of iterations. Duality gap: 108.17707073324459, tolerance: 0.19333636363636378\n",
      "  model = cd_fast.enet_coordinate_descent(\n",
      "C:\\Anaconda\\lib\\site-packages\\sklearn\\linear_model\\_coordinate_descent.py:529: ConvergenceWarning: Objective did not converge. You might want to increase the number of iterations. Duality gap: 133.6725398880102, tolerance: 0.19271036682615633\n",
      "  model = cd_fast.enet_coordinate_descent(\n",
      "C:\\Anaconda\\lib\\site-packages\\sklearn\\linear_model\\_coordinate_descent.py:529: ConvergenceWarning: Objective did not converge. You might want to increase the number of iterations. Duality gap: 1.169710078906519, tolerance: 0.19338417065390742\n",
      "  model = cd_fast.enet_coordinate_descent(\n"
     ]
    },
    {
     "name": "stderr",
     "output_type": "stream",
     "text": [
      "C:\\Anaconda\\lib\\site-packages\\sklearn\\linear_model\\_coordinate_descent.py:529: ConvergenceWarning: Objective did not converge. You might want to increase the number of iterations. Duality gap: 1.785992630057308, tolerance: 0.19368847687400326\n",
      "  model = cd_fast.enet_coordinate_descent(\n",
      "C:\\Anaconda\\lib\\site-packages\\sklearn\\linear_model\\_coordinate_descent.py:529: ConvergenceWarning: Objective did not converge. You might want to increase the number of iterations. Duality gap: 1.2699888540521442, tolerance: 0.19333636363636378\n",
      "  model = cd_fast.enet_coordinate_descent(\n",
      "C:\\Anaconda\\lib\\site-packages\\sklearn\\linear_model\\_coordinate_descent.py:529: ConvergenceWarning: Objective did not converge. You might want to increase the number of iterations. Duality gap: 1.0971003707702494, tolerance: 0.19271036682615633\n",
      "  model = cd_fast.enet_coordinate_descent(\n",
      "C:\\Anaconda\\lib\\site-packages\\sklearn\\linear_model\\_coordinate_descent.py:529: ConvergenceWarning: Objective did not converge. You might want to increase the number of iterations. Duality gap: 237.513425778485, tolerance: 0.1984727562824094\n",
      "  model = cd_fast.enet_coordinate_descent(\n",
      "C:\\Anaconda\\lib\\site-packages\\sklearn\\linear_model\\_coordinate_descent.py:529: ConvergenceWarning: Objective did not converge. You might want to increase the number of iterations. Duality gap: 295.7124465023521, tolerance: 0.19493394495412839\n",
      "  model = cd_fast.enet_coordinate_descent(\n",
      "C:\\Anaconda\\lib\\site-packages\\sklearn\\linear_model\\_coordinate_descent.py:529: ConvergenceWarning: Objective did not converge. You might want to increase the number of iterations. Duality gap: 327.60258455377414, tolerance: 0.1898409254088552\n",
      "  model = cd_fast.enet_coordinate_descent(\n",
      "C:\\Anaconda\\lib\\site-packages\\sklearn\\linear_model\\_coordinate_descent.py:529: ConvergenceWarning: Objective did not converge. You might want to increase the number of iterations. Duality gap: 321.19674423640544, tolerance: 0.1939522138013562\n",
      "  model = cd_fast.enet_coordinate_descent(\n",
      "C:\\Anaconda\\lib\\site-packages\\sklearn\\linear_model\\_coordinate_descent.py:529: ConvergenceWarning: Objective did not converge. You might want to increase the number of iterations. Duality gap: 281.7475401169252, tolerance: 0.1942051036682615\n",
      "  model = cd_fast.enet_coordinate_descent(\n",
      "C:\\Anaconda\\lib\\site-packages\\sklearn\\linear_model\\_coordinate_descent.py:529: ConvergenceWarning: Objective did not converge. You might want to increase the number of iterations. Duality gap: 0.556917729589145, tolerance: 0.1984727562824094\n",
      "  model = cd_fast.enet_coordinate_descent(\n",
      "C:\\Anaconda\\lib\\site-packages\\sklearn\\linear_model\\_coordinate_descent.py:529: ConvergenceWarning: Objective did not converge. You might want to increase the number of iterations. Duality gap: 22.530582305304733, tolerance: 0.19493394495412839\n",
      "  model = cd_fast.enet_coordinate_descent(\n",
      "C:\\Anaconda\\lib\\site-packages\\sklearn\\linear_model\\_coordinate_descent.py:529: ConvergenceWarning: Objective did not converge. You might want to increase the number of iterations. Duality gap: 18.932534905398143, tolerance: 0.1898409254088552\n",
      "  model = cd_fast.enet_coordinate_descent(\n",
      "C:\\Anaconda\\lib\\site-packages\\sklearn\\linear_model\\_coordinate_descent.py:529: ConvergenceWarning: Objective did not converge. You might want to increase the number of iterations. Duality gap: 18.716321117253074, tolerance: 0.1939522138013562\n",
      "  model = cd_fast.enet_coordinate_descent(\n",
      "C:\\Anaconda\\lib\\site-packages\\sklearn\\linear_model\\_coordinate_descent.py:529: ConvergenceWarning: Objective did not converge. You might want to increase the number of iterations. Duality gap: 18.603622562416717, tolerance: 0.1942051036682615\n",
      "  model = cd_fast.enet_coordinate_descent(\n",
      "C:\\Anaconda\\lib\\site-packages\\sklearn\\linear_model\\_coordinate_descent.py:529: ConvergenceWarning: Objective did not converge. You might want to increase the number of iterations. Duality gap: 269.5023203569057, tolerance: 0.19896146788990823\n",
      "  model = cd_fast.enet_coordinate_descent(\n",
      "C:\\Anaconda\\lib\\site-packages\\sklearn\\linear_model\\_coordinate_descent.py:529: ConvergenceWarning: Objective did not converge. You might want to increase the number of iterations. Duality gap: 325.13211580819035, tolerance: 0.1997053849222179\n",
      "  model = cd_fast.enet_coordinate_descent(\n",
      "C:\\Anaconda\\lib\\site-packages\\sklearn\\linear_model\\_coordinate_descent.py:529: ConvergenceWarning: Objective did not converge. You might want to increase the number of iterations. Duality gap: 111.89117395588903, tolerance: 0.1951339449541284\n",
      "  model = cd_fast.enet_coordinate_descent(\n",
      "C:\\Anaconda\\lib\\site-packages\\sklearn\\linear_model\\_coordinate_descent.py:529: ConvergenceWarning: Objective did not converge. You might want to increase the number of iterations. Duality gap: 228.9258037812682, tolerance: 0.19920534503390505\n",
      "  model = cd_fast.enet_coordinate_descent(\n",
      "C:\\Anaconda\\lib\\site-packages\\sklearn\\linear_model\\_coordinate_descent.py:529: ConvergenceWarning: Objective did not converge. You might want to increase the number of iterations. Duality gap: 288.5507803357306, tolerance: 0.19951866028708132\n",
      "  model = cd_fast.enet_coordinate_descent(\n",
      "C:\\Anaconda\\lib\\site-packages\\sklearn\\linear_model\\_coordinate_descent.py:529: ConvergenceWarning: Objective did not converge. You might want to increase the number of iterations. Duality gap: 1.2172326166760286, tolerance: 0.19896146788990823\n",
      "  model = cd_fast.enet_coordinate_descent(\n",
      "C:\\Anaconda\\lib\\site-packages\\sklearn\\linear_model\\_coordinate_descent.py:529: ConvergenceWarning: Objective did not converge. You might want to increase the number of iterations. Duality gap: 0.8301492142572897, tolerance: 0.1997053849222179\n",
      "  model = cd_fast.enet_coordinate_descent(\n",
      "C:\\Anaconda\\lib\\site-packages\\sklearn\\linear_model\\_coordinate_descent.py:529: ConvergenceWarning: Objective did not converge. You might want to increase the number of iterations. Duality gap: 6.738134504968798, tolerance: 0.19920534503390505\n",
      "  model = cd_fast.enet_coordinate_descent(\n",
      "C:\\Anaconda\\lib\\site-packages\\sklearn\\linear_model\\_coordinate_descent.py:529: ConvergenceWarning: Objective did not converge. You might want to increase the number of iterations. Duality gap: 0.5949909582554938, tolerance: 0.19951866028708132\n",
      "  model = cd_fast.enet_coordinate_descent(\n",
      "C:\\Anaconda\\lib\\site-packages\\sklearn\\linear_model\\_coordinate_descent.py:529: ConvergenceWarning: Objective did not converge. You might want to increase the number of iterations. Duality gap: 265.6848967180373, tolerance: 0.1930727562824094\n",
      "  model = cd_fast.enet_coordinate_descent(\n",
      "C:\\Anaconda\\lib\\site-packages\\sklearn\\linear_model\\_coordinate_descent.py:529: ConvergenceWarning: Objective did not converge. You might want to increase the number of iterations. Duality gap: 270.0400008890627, tolerance: 0.1967053849222179\n",
      "  model = cd_fast.enet_coordinate_descent(\n",
      "C:\\Anaconda\\lib\\site-packages\\sklearn\\linear_model\\_coordinate_descent.py:529: ConvergenceWarning: Objective did not converge. You might want to increase the number of iterations. Duality gap: 327.8902753244241, tolerance: 0.19223789389708815\n",
      "  model = cd_fast.enet_coordinate_descent(\n",
      "C:\\Anaconda\\lib\\site-packages\\sklearn\\linear_model\\_coordinate_descent.py:529: ConvergenceWarning: Objective did not converge. You might want to increase the number of iterations. Duality gap: 376.133312957867, tolerance: 0.19331727163940957\n",
      "  model = cd_fast.enet_coordinate_descent(\n",
      "C:\\Anaconda\\lib\\site-packages\\sklearn\\linear_model\\_coordinate_descent.py:529: ConvergenceWarning: Objective did not converge. You might want to increase the number of iterations. Duality gap: 359.68917716308067, tolerance: 0.1936185007974481\n",
      "  model = cd_fast.enet_coordinate_descent(\n",
      "C:\\Anaconda\\lib\\site-packages\\sklearn\\linear_model\\_coordinate_descent.py:529: ConvergenceWarning: Objective did not converge. You might want to increase the number of iterations. Duality gap: 31.00162398928478, tolerance: 0.1930727562824094\n",
      "  model = cd_fast.enet_coordinate_descent(\n",
      "C:\\Anaconda\\lib\\site-packages\\sklearn\\linear_model\\_coordinate_descent.py:529: ConvergenceWarning: Objective did not converge. You might want to increase the number of iterations. Duality gap: 4.733724305658598, tolerance: 0.19223789389708815\n",
      "  model = cd_fast.enet_coordinate_descent(\n"
     ]
    },
    {
     "name": "stderr",
     "output_type": "stream",
     "text": [
      "C:\\Anaconda\\lib\\site-packages\\sklearn\\linear_model\\_coordinate_descent.py:529: ConvergenceWarning: Objective did not converge. You might want to increase the number of iterations. Duality gap: 19.42947969757995, tolerance: 0.19331727163940957\n",
      "  model = cd_fast.enet_coordinate_descent(\n",
      "C:\\Anaconda\\lib\\site-packages\\sklearn\\linear_model\\_coordinate_descent.py:529: ConvergenceWarning: Objective did not converge. You might want to increase the number of iterations. Duality gap: 40.63761938278151, tolerance: 0.1936185007974481\n",
      "  model = cd_fast.enet_coordinate_descent(\n",
      "C:\\Anaconda\\lib\\site-packages\\sklearn\\linear_model\\_coordinate_descent.py:529: ConvergenceWarning: Objective did not converge. You might want to increase the number of iterations. Duality gap: 359.34552608413185, tolerance: 0.1923535885167464\n",
      "  model = cd_fast.enet_coordinate_descent(\n",
      "C:\\Anaconda\\lib\\site-packages\\sklearn\\linear_model\\_coordinate_descent.py:529: ConvergenceWarning: Objective did not converge. You might want to increase the number of iterations. Duality gap: 73.38447916864254, tolerance: 0.19598289473684208\n",
      "  model = cd_fast.enet_coordinate_descent(\n",
      "C:\\Anaconda\\lib\\site-packages\\sklearn\\linear_model\\_coordinate_descent.py:529: ConvergenceWarning: Objective did not converge. You might want to increase the number of iterations. Duality gap: 358.1024656032961, tolerance: 0.19264673046251987\n",
      "  model = cd_fast.enet_coordinate_descent(\n",
      "C:\\Anaconda\\lib\\site-packages\\sklearn\\linear_model\\_coordinate_descent.py:529: ConvergenceWarning: Objective did not converge. You might want to increase the number of iterations. Duality gap: 359.71592172425187, tolerance: 0.19219086921850073\n",
      "  model = cd_fast.enet_coordinate_descent(\n",
      "C:\\Anaconda\\lib\\site-packages\\sklearn\\linear_model\\_coordinate_descent.py:529: ConvergenceWarning: Objective did not converge. You might want to increase the number of iterations. Duality gap: 367.95546878194665, tolerance: 0.19285789473684223\n",
      "  model = cd_fast.enet_coordinate_descent(\n",
      "C:\\Anaconda\\lib\\site-packages\\sklearn\\linear_model\\_coordinate_descent.py:529: ConvergenceWarning: Objective did not converge. You might want to increase the number of iterations. Duality gap: 12.461339223776463, tolerance: 0.1923535885167464\n",
      "  model = cd_fast.enet_coordinate_descent(\n",
      "C:\\Anaconda\\lib\\site-packages\\sklearn\\linear_model\\_coordinate_descent.py:529: ConvergenceWarning: Objective did not converge. You might want to increase the number of iterations. Duality gap: 29.213951304739567, tolerance: 0.19264673046251987\n",
      "  model = cd_fast.enet_coordinate_descent(\n",
      "C:\\Anaconda\\lib\\site-packages\\sklearn\\linear_model\\_coordinate_descent.py:529: ConvergenceWarning: Objective did not converge. You might want to increase the number of iterations. Duality gap: 6.405617425261312, tolerance: 0.19219086921850073\n",
      "  model = cd_fast.enet_coordinate_descent(\n",
      "C:\\Anaconda\\lib\\site-packages\\sklearn\\linear_model\\_coordinate_descent.py:529: ConvergenceWarning: Objective did not converge. You might want to increase the number of iterations. Duality gap: 31.281700307220376, tolerance: 0.19285789473684223\n",
      "  model = cd_fast.enet_coordinate_descent(\n",
      "C:\\Anaconda\\lib\\site-packages\\sklearn\\linear_model\\_coordinate_descent.py:529: ConvergenceWarning: Objective did not converge. You might want to increase the number of iterations. Duality gap: 306.1051375495077, tolerance: 0.19338417065390742\n",
      "  model = cd_fast.enet_coordinate_descent(\n",
      "C:\\Anaconda\\lib\\site-packages\\sklearn\\linear_model\\_coordinate_descent.py:529: ConvergenceWarning: Objective did not converge. You might want to increase the number of iterations. Duality gap: 275.34564666435347, tolerance: 0.19700510366826152\n",
      "  model = cd_fast.enet_coordinate_descent(\n",
      "C:\\Anaconda\\lib\\site-packages\\sklearn\\linear_model\\_coordinate_descent.py:529: ConvergenceWarning: Objective did not converge. You might want to increase the number of iterations. Duality gap: 353.6329164533706, tolerance: 0.19368847687400326\n",
      "  model = cd_fast.enet_coordinate_descent(\n",
      "C:\\Anaconda\\lib\\site-packages\\sklearn\\linear_model\\_coordinate_descent.py:529: ConvergenceWarning: Objective did not converge. You might want to increase the number of iterations. Duality gap: 362.6807442892764, tolerance: 0.19333636363636378\n",
      "  model = cd_fast.enet_coordinate_descent(\n",
      "C:\\Anaconda\\lib\\site-packages\\sklearn\\linear_model\\_coordinate_descent.py:529: ConvergenceWarning: Objective did not converge. You might want to increase the number of iterations. Duality gap: 365.09519443736355, tolerance: 0.19271036682615633\n",
      "  model = cd_fast.enet_coordinate_descent(\n",
      "C:\\Anaconda\\lib\\site-packages\\sklearn\\linear_model\\_coordinate_descent.py:529: ConvergenceWarning: Objective did not converge. You might want to increase the number of iterations. Duality gap: 38.95066824320736, tolerance: 0.19338417065390742\n",
      "  model = cd_fast.enet_coordinate_descent(\n",
      "C:\\Anaconda\\lib\\site-packages\\sklearn\\linear_model\\_coordinate_descent.py:529: ConvergenceWarning: Objective did not converge. You might want to increase the number of iterations. Duality gap: 13.352787817832791, tolerance: 0.19700510366826152\n",
      "  model = cd_fast.enet_coordinate_descent(\n",
      "C:\\Anaconda\\lib\\site-packages\\sklearn\\linear_model\\_coordinate_descent.py:529: ConvergenceWarning: Objective did not converge. You might want to increase the number of iterations. Duality gap: 39.83308209214408, tolerance: 0.19368847687400326\n",
      "  model = cd_fast.enet_coordinate_descent(\n",
      "C:\\Anaconda\\lib\\site-packages\\sklearn\\linear_model\\_coordinate_descent.py:529: ConvergenceWarning: Objective did not converge. You might want to increase the number of iterations. Duality gap: 16.048977648787968, tolerance: 0.19333636363636378\n",
      "  model = cd_fast.enet_coordinate_descent(\n",
      "C:\\Anaconda\\lib\\site-packages\\sklearn\\linear_model\\_coordinate_descent.py:529: ConvergenceWarning: Objective did not converge. You might want to increase the number of iterations. Duality gap: 50.24934381509422, tolerance: 0.19271036682615633\n",
      "  model = cd_fast.enet_coordinate_descent(\n",
      "C:\\Anaconda\\lib\\site-packages\\sklearn\\linear_model\\_coordinate_descent.py:529: ConvergenceWarning: Objective did not converge. You might want to increase the number of iterations. Duality gap: 262.3498108644959, tolerance: 0.1984727562824094\n",
      "  model = cd_fast.enet_coordinate_descent(\n",
      "C:\\Anaconda\\lib\\site-packages\\sklearn\\linear_model\\_coordinate_descent.py:529: ConvergenceWarning: Objective did not converge. You might want to increase the number of iterations. Duality gap: 240.20225225452464, tolerance: 0.19493394495412839\n",
      "  model = cd_fast.enet_coordinate_descent(\n",
      "C:\\Anaconda\\lib\\site-packages\\sklearn\\linear_model\\_coordinate_descent.py:529: ConvergenceWarning: Objective did not converge. You might want to increase the number of iterations. Duality gap: 220.62139476988523, tolerance: 0.1898409254088552\n",
      "  model = cd_fast.enet_coordinate_descent(\n",
      "C:\\Anaconda\\lib\\site-packages\\sklearn\\linear_model\\_coordinate_descent.py:529: ConvergenceWarning: Objective did not converge. You might want to increase the number of iterations. Duality gap: 221.79643510539248, tolerance: 0.1939522138013562\n",
      "  model = cd_fast.enet_coordinate_descent(\n",
      "C:\\Anaconda\\lib\\site-packages\\sklearn\\linear_model\\_coordinate_descent.py:529: ConvergenceWarning: Objective did not converge. You might want to increase the number of iterations. Duality gap: 237.71301459605826, tolerance: 0.1942051036682615\n",
      "  model = cd_fast.enet_coordinate_descent(\n",
      "C:\\Anaconda\\lib\\site-packages\\sklearn\\linear_model\\_coordinate_descent.py:529: ConvergenceWarning: Objective did not converge. You might want to increase the number of iterations. Duality gap: 31.562180454971553, tolerance: 0.1984727562824094\n",
      "  model = cd_fast.enet_coordinate_descent(\n",
      "C:\\Anaconda\\lib\\site-packages\\sklearn\\linear_model\\_coordinate_descent.py:529: ConvergenceWarning: Objective did not converge. You might want to increase the number of iterations. Duality gap: 54.57188126094695, tolerance: 0.19493394495412839\n",
      "  model = cd_fast.enet_coordinate_descent(\n",
      "C:\\Anaconda\\lib\\site-packages\\sklearn\\linear_model\\_coordinate_descent.py:529: ConvergenceWarning: Objective did not converge. You might want to increase the number of iterations. Duality gap: 46.31752180465378, tolerance: 0.1898409254088552\n",
      "  model = cd_fast.enet_coordinate_descent(\n"
     ]
    },
    {
     "name": "stderr",
     "output_type": "stream",
     "text": [
      "C:\\Anaconda\\lib\\site-packages\\sklearn\\linear_model\\_coordinate_descent.py:529: ConvergenceWarning: Objective did not converge. You might want to increase the number of iterations. Duality gap: 33.770899972566326, tolerance: 0.1939522138013562\n",
      "  model = cd_fast.enet_coordinate_descent(\n",
      "C:\\Anaconda\\lib\\site-packages\\sklearn\\linear_model\\_coordinate_descent.py:529: ConvergenceWarning: Objective did not converge. You might want to increase the number of iterations. Duality gap: 63.65737206280147, tolerance: 0.1942051036682615\n",
      "  model = cd_fast.enet_coordinate_descent(\n",
      "C:\\Anaconda\\lib\\site-packages\\sklearn\\linear_model\\_coordinate_descent.py:529: ConvergenceWarning: Objective did not converge. You might want to increase the number of iterations. Duality gap: 248.02256293235905, tolerance: 0.19896146788990823\n",
      "  model = cd_fast.enet_coordinate_descent(\n",
      "C:\\Anaconda\\lib\\site-packages\\sklearn\\linear_model\\_coordinate_descent.py:529: ConvergenceWarning: Objective did not converge. You might want to increase the number of iterations. Duality gap: 252.69721437874793, tolerance: 0.1997053849222179\n",
      "  model = cd_fast.enet_coordinate_descent(\n",
      "C:\\Anaconda\\lib\\site-packages\\sklearn\\linear_model\\_coordinate_descent.py:529: ConvergenceWarning: Objective did not converge. You might want to increase the number of iterations. Duality gap: 189.2463350461281, tolerance: 0.1951339449541284\n",
      "  model = cd_fast.enet_coordinate_descent(\n",
      "C:\\Anaconda\\lib\\site-packages\\sklearn\\linear_model\\_coordinate_descent.py:529: ConvergenceWarning: Objective did not converge. You might want to increase the number of iterations. Duality gap: 261.1592053845501, tolerance: 0.19920534503390505\n",
      "  model = cd_fast.enet_coordinate_descent(\n",
      "C:\\Anaconda\\lib\\site-packages\\sklearn\\linear_model\\_coordinate_descent.py:529: ConvergenceWarning: Objective did not converge. You might want to increase the number of iterations. Duality gap: 239.7956741478725, tolerance: 0.19951866028708132\n",
      "  model = cd_fast.enet_coordinate_descent(\n",
      "C:\\Anaconda\\lib\\site-packages\\sklearn\\linear_model\\_coordinate_descent.py:529: ConvergenceWarning: Objective did not converge. You might want to increase the number of iterations. Duality gap: 28.717982233650105, tolerance: 0.19896146788990823\n",
      "  model = cd_fast.enet_coordinate_descent(\n",
      "C:\\Anaconda\\lib\\site-packages\\sklearn\\linear_model\\_coordinate_descent.py:529: ConvergenceWarning: Objective did not converge. You might want to increase the number of iterations. Duality gap: 38.44122668677892, tolerance: 0.1997053849222179\n",
      "  model = cd_fast.enet_coordinate_descent(\n",
      "C:\\Anaconda\\lib\\site-packages\\sklearn\\linear_model\\_coordinate_descent.py:529: ConvergenceWarning: Objective did not converge. You might want to increase the number of iterations. Duality gap: 14.286516841197795, tolerance: 0.1951339449541284\n",
      "  model = cd_fast.enet_coordinate_descent(\n",
      "C:\\Anaconda\\lib\\site-packages\\sklearn\\linear_model\\_coordinate_descent.py:529: ConvergenceWarning: Objective did not converge. You might want to increase the number of iterations. Duality gap: 34.94202246548002, tolerance: 0.19920534503390505\n",
      "  model = cd_fast.enet_coordinate_descent(\n",
      "C:\\Anaconda\\lib\\site-packages\\sklearn\\linear_model\\_coordinate_descent.py:529: ConvergenceWarning: Objective did not converge. You might want to increase the number of iterations. Duality gap: 11.606431385700489, tolerance: 0.19951866028708132\n",
      "  model = cd_fast.enet_coordinate_descent(\n",
      "C:\\Anaconda\\lib\\site-packages\\sklearn\\linear_model\\_coordinate_descent.py:529: ConvergenceWarning: Objective did not converge. You might want to increase the number of iterations. Duality gap: 235.74238164116105, tolerance: 0.1930727562824094\n",
      "  model = cd_fast.enet_coordinate_descent(\n",
      "C:\\Anaconda\\lib\\site-packages\\sklearn\\linear_model\\_coordinate_descent.py:529: ConvergenceWarning: Objective did not converge. You might want to increase the number of iterations. Duality gap: 259.55296781269243, tolerance: 0.1967053849222179\n",
      "  model = cd_fast.enet_coordinate_descent(\n",
      "C:\\Anaconda\\lib\\site-packages\\sklearn\\linear_model\\_coordinate_descent.py:529: ConvergenceWarning: Objective did not converge. You might want to increase the number of iterations. Duality gap: 211.81190415715358, tolerance: 0.19223789389708815\n",
      "  model = cd_fast.enet_coordinate_descent(\n",
      "C:\\Anaconda\\lib\\site-packages\\sklearn\\linear_model\\_coordinate_descent.py:529: ConvergenceWarning: Objective did not converge. You might want to increase the number of iterations. Duality gap: 216.00690196142253, tolerance: 0.19331727163940957\n",
      "  model = cd_fast.enet_coordinate_descent(\n",
      "C:\\Anaconda\\lib\\site-packages\\sklearn\\linear_model\\_coordinate_descent.py:529: ConvergenceWarning: Objective did not converge. You might want to increase the number of iterations. Duality gap: 245.7687147915532, tolerance: 0.1936185007974481\n",
      "  model = cd_fast.enet_coordinate_descent(\n",
      "C:\\Anaconda\\lib\\site-packages\\sklearn\\linear_model\\_coordinate_descent.py:529: ConvergenceWarning: Objective did not converge. You might want to increase the number of iterations. Duality gap: 51.27303202732844, tolerance: 0.1930727562824094\n",
      "  model = cd_fast.enet_coordinate_descent(\n",
      "C:\\Anaconda\\lib\\site-packages\\sklearn\\linear_model\\_coordinate_descent.py:529: ConvergenceWarning: Objective did not converge. You might want to increase the number of iterations. Duality gap: 17.167754868263728, tolerance: 0.1967053849222179\n",
      "  model = cd_fast.enet_coordinate_descent(\n",
      "C:\\Anaconda\\lib\\site-packages\\sklearn\\linear_model\\_coordinate_descent.py:529: ConvergenceWarning: Objective did not converge. You might want to increase the number of iterations. Duality gap: 55.53204264387898, tolerance: 0.19223789389708815\n",
      "  model = cd_fast.enet_coordinate_descent(\n",
      "C:\\Anaconda\\lib\\site-packages\\sklearn\\linear_model\\_coordinate_descent.py:529: ConvergenceWarning: Objective did not converge. You might want to increase the number of iterations. Duality gap: 75.50579787992791, tolerance: 0.19331727163940957\n",
      "  model = cd_fast.enet_coordinate_descent(\n",
      "C:\\Anaconda\\lib\\site-packages\\sklearn\\linear_model\\_coordinate_descent.py:529: ConvergenceWarning: Objective did not converge. You might want to increase the number of iterations. Duality gap: 50.091190855152604, tolerance: 0.1936185007974481\n",
      "  model = cd_fast.enet_coordinate_descent(\n",
      "C:\\Anaconda\\lib\\site-packages\\sklearn\\linear_model\\_coordinate_descent.py:529: ConvergenceWarning: Objective did not converge. You might want to increase the number of iterations. Duality gap: 231.21695334456308, tolerance: 0.1923535885167464\n",
      "  model = cd_fast.enet_coordinate_descent(\n",
      "C:\\Anaconda\\lib\\site-packages\\sklearn\\linear_model\\_coordinate_descent.py:529: ConvergenceWarning: Objective did not converge. You might want to increase the number of iterations. Duality gap: 221.49445079360436, tolerance: 0.19598289473684208\n",
      "  model = cd_fast.enet_coordinate_descent(\n",
      "C:\\Anaconda\\lib\\site-packages\\sklearn\\linear_model\\_coordinate_descent.py:529: ConvergenceWarning: Objective did not converge. You might want to increase the number of iterations. Duality gap: 232.45850009933915, tolerance: 0.19264673046251987\n",
      "  model = cd_fast.enet_coordinate_descent(\n",
      "C:\\Anaconda\\lib\\site-packages\\sklearn\\linear_model\\_coordinate_descent.py:529: ConvergenceWarning: Objective did not converge. You might want to increase the number of iterations. Duality gap: 222.51802280177506, tolerance: 0.19219086921850073\n",
      "  model = cd_fast.enet_coordinate_descent(\n",
      "C:\\Anaconda\\lib\\site-packages\\sklearn\\linear_model\\_coordinate_descent.py:529: ConvergenceWarning: Objective did not converge. You might want to increase the number of iterations. Duality gap: 224.97656624914396, tolerance: 0.19285789473684223\n",
      "  model = cd_fast.enet_coordinate_descent(\n",
      "C:\\Anaconda\\lib\\site-packages\\sklearn\\linear_model\\_coordinate_descent.py:529: ConvergenceWarning: Objective did not converge. You might want to increase the number of iterations. Duality gap: 8.265162618086265, tolerance: 0.1923535885167464\n",
      "  model = cd_fast.enet_coordinate_descent(\n",
      "C:\\Anaconda\\lib\\site-packages\\sklearn\\linear_model\\_coordinate_descent.py:529: ConvergenceWarning: Objective did not converge. You might want to increase the number of iterations. Duality gap: 23.650920019901946, tolerance: 0.19598289473684208\n",
      "  model = cd_fast.enet_coordinate_descent(\n"
     ]
    },
    {
     "name": "stderr",
     "output_type": "stream",
     "text": [
      "C:\\Anaconda\\lib\\site-packages\\sklearn\\linear_model\\_coordinate_descent.py:529: ConvergenceWarning: Objective did not converge. You might want to increase the number of iterations. Duality gap: 49.71649298922989, tolerance: 0.19264673046251987\n",
      "  model = cd_fast.enet_coordinate_descent(\n",
      "C:\\Anaconda\\lib\\site-packages\\sklearn\\linear_model\\_coordinate_descent.py:529: ConvergenceWarning: Objective did not converge. You might want to increase the number of iterations. Duality gap: 15.516854038948168, tolerance: 0.19219086921850073\n",
      "  model = cd_fast.enet_coordinate_descent(\n",
      "C:\\Anaconda\\lib\\site-packages\\sklearn\\linear_model\\_coordinate_descent.py:529: ConvergenceWarning: Objective did not converge. You might want to increase the number of iterations. Duality gap: 34.68269545277985, tolerance: 0.19285789473684223\n",
      "  model = cd_fast.enet_coordinate_descent(\n",
      "C:\\Anaconda\\lib\\site-packages\\sklearn\\linear_model\\_coordinate_descent.py:529: ConvergenceWarning: Objective did not converge. You might want to increase the number of iterations. Duality gap: 242.6177799203308, tolerance: 0.19338417065390742\n",
      "  model = cd_fast.enet_coordinate_descent(\n",
      "C:\\Anaconda\\lib\\site-packages\\sklearn\\linear_model\\_coordinate_descent.py:529: ConvergenceWarning: Objective did not converge. You might want to increase the number of iterations. Duality gap: 268.3296181977817, tolerance: 0.19700510366826152\n",
      "  model = cd_fast.enet_coordinate_descent(\n",
      "C:\\Anaconda\\lib\\site-packages\\sklearn\\linear_model\\_coordinate_descent.py:529: ConvergenceWarning: Objective did not converge. You might want to increase the number of iterations. Duality gap: 271.7813461276066, tolerance: 0.19368847687400326\n",
      "  model = cd_fast.enet_coordinate_descent(\n",
      "C:\\Anaconda\\lib\\site-packages\\sklearn\\linear_model\\_coordinate_descent.py:529: ConvergenceWarning: Objective did not converge. You might want to increase the number of iterations. Duality gap: 256.02504456421, tolerance: 0.19333636363636378\n",
      "  model = cd_fast.enet_coordinate_descent(\n",
      "C:\\Anaconda\\lib\\site-packages\\sklearn\\linear_model\\_coordinate_descent.py:529: ConvergenceWarning: Objective did not converge. You might want to increase the number of iterations. Duality gap: 213.95111125111262, tolerance: 0.19271036682615633\n",
      "  model = cd_fast.enet_coordinate_descent(\n",
      "C:\\Anaconda\\lib\\site-packages\\sklearn\\linear_model\\_coordinate_descent.py:529: ConvergenceWarning: Objective did not converge. You might want to increase the number of iterations. Duality gap: 57.9520235320266, tolerance: 0.19338417065390742\n",
      "  model = cd_fast.enet_coordinate_descent(\n",
      "C:\\Anaconda\\lib\\site-packages\\sklearn\\linear_model\\_coordinate_descent.py:529: ConvergenceWarning: Objective did not converge. You might want to increase the number of iterations. Duality gap: 4.617184371153257, tolerance: 0.19700510366826152\n",
      "  model = cd_fast.enet_coordinate_descent(\n",
      "C:\\Anaconda\\lib\\site-packages\\sklearn\\linear_model\\_coordinate_descent.py:529: ConvergenceWarning: Objective did not converge. You might want to increase the number of iterations. Duality gap: 76.48540042091827, tolerance: 0.19368847687400326\n",
      "  model = cd_fast.enet_coordinate_descent(\n",
      "C:\\Anaconda\\lib\\site-packages\\sklearn\\linear_model\\_coordinate_descent.py:529: ConvergenceWarning: Objective did not converge. You might want to increase the number of iterations. Duality gap: 74.30658880993258, tolerance: 0.19333636363636378\n",
      "  model = cd_fast.enet_coordinate_descent(\n",
      "C:\\Anaconda\\lib\\site-packages\\sklearn\\linear_model\\_coordinate_descent.py:529: ConvergenceWarning: Objective did not converge. You might want to increase the number of iterations. Duality gap: 51.04187570173792, tolerance: 0.19271036682615633\n",
      "  model = cd_fast.enet_coordinate_descent(\n"
     ]
    },
    {
     "name": "stdout",
     "output_type": "stream",
     "text": [
      "Hyperparameter Searching Results for Lasso: \n",
      "-------------------------------------------\n",
      "\n",
      "Optimal parameters: Basis degree 4 and lamda 0.0100 with minimal mse=0.5383\n",
      "\n",
      "MSE for degree 2 polynomial expansion and lambda = 0.0100: 0.5428\n",
      "\n",
      "MSE for degree 3 polynomial expansion and lambda = 0.0100: 0.5411\n",
      "\n",
      "MSE for degree 4 polynomial expansion and lambda = 0.0100: 0.5383\n",
      "\n"
     ]
    }
   ],
   "source": [
    "# Hyperparameter Searching Results for Lasso\n",
    "hyperparameter_search_degree(X, y, is_ridge=False)"
   ]
  },
  {
   "cell_type": "markdown",
   "metadata": {},
   "source": [
    "### **Remark Task 13**\n",
    "For the lasso model we encountered some errors that the objective does not converge, we then tried to optimize the default inputs for the lasso regression by increasing the number of iterations and changing the tolerance. Setting up higher tolaerance and more iterations did not solve the convergence problem. But we noticed that no matter the change of the inputs for lasso regression we still get the same estimations for the MSE and the respective parameter lambda. We thought about this convergence problem and that converging in one perfect result might not be possible. So it should be noted that there might be some issues using Lasso in this context and that it might not be a good model for our data. \n"
   ]
  },
  {
   "cell_type": "code",
   "execution_count": null,
   "metadata": {},
   "outputs": [],
   "source": []
  }
 ],
 "metadata": {
  "colab": {
   "authorship_tag": "ABX9TyP96ktvsOI4PiuW52tcNLjx",
   "collapsed_sections": [],
   "name": "Practical1_starter.ipynb",
   "provenance": [],
   "toc_visible": true
  },
  "kernelspec": {
   "display_name": "Python 3",
   "language": "python",
   "name": "python3"
  },
  "language_info": {
   "codemirror_mode": {
    "name": "ipython",
    "version": 3
   },
   "file_extension": ".py",
   "mimetype": "text/x-python",
   "name": "python",
   "nbconvert_exporter": "python",
   "pygments_lexer": "ipython3",
   "version": "3.8.5"
  }
 },
 "nbformat": 4,
 "nbformat_minor": 4
}
