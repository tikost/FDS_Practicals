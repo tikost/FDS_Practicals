{
  "cells": [
    {
      "cell_type": "markdown",
      "metadata": {
        "id": "d8qLz7LkAR5h"
      },
      "source": [
        "# Practical 3: MNIST\n",
        "\n",
        "This is the first task of Practical 3. Your task is to build a (convolutional) neural network to classify the handwritten digits from the MNIST dataset (http://yann.lecun.com/exdb/mnist/). \n",
        "\n",
        "You should get an accuracy of **at least 97%** to pass the practical. \n",
        "\n",
        "You should save and upload your model to the seafile link we provided to you. Please name the model file as `{repository_name}-MNIST.h5`. For example, if your repository is FDS21-M0, you should name the model file as `FDS21-M0-MNIST.h5`"
      ]
    },
    {
      "cell_type": "markdown",
      "metadata": {
        "id": "2VfyZS0sAR5s"
      },
      "source": [
        "## Import the libraries"
      ]
    },
    {
      "cell_type": "code",
      "execution_count": 1,
      "metadata": {
        "id": "Nmi6BR8tAR5u"
      },
      "outputs": [],
      "source": [
        "import numpy as np\n",
        "import pandas as pd\n",
        "import matplotlib.pyplot as plt\n",
        "\n",
        "import tensorflow as tf\n",
        "from tensorflow import keras"
      ]
    },
    {
      "cell_type": "code",
      "execution_count": null,
      "metadata": {
        "colab": {
          "base_uri": "https://localhost:8080/",
          "height": 36
        },
        "id": "RGBrmDjGAR51",
        "outputId": "0b678cad-d524-4fab-859f-c13bac55b92c"
      },
      "outputs": [
        {
          "output_type": "execute_result",
          "data": {
            "application/vnd.google.colaboratory.intrinsic+json": {
              "type": "string"
            },
            "text/plain": [
              "'2.7.0'"
            ]
          },
          "metadata": {},
          "execution_count": 2
        }
      ],
      "source": [
        "tf.__version__"
      ]
    },
    {
      "cell_type": "code",
      "execution_count": null,
      "metadata": {
        "colab": {
          "base_uri": "https://localhost:8080/",
          "height": 36
        },
        "id": "qPrAOq8OAR53",
        "outputId": "afa275e2-4fbb-45f3-e9e6-1020d36c9a5a"
      },
      "outputs": [
        {
          "output_type": "execute_result",
          "data": {
            "application/vnd.google.colaboratory.intrinsic+json": {
              "type": "string"
            },
            "text/plain": [
              "'2.7.0'"
            ]
          },
          "metadata": {},
          "execution_count": 3
        }
      ],
      "source": [
        "tf.keras.__version__"
      ]
    },
    {
      "cell_type": "markdown",
      "metadata": {
        "id": "hlXC1JxrAR55"
      },
      "source": [
        "## Prepare the dataset\n",
        "\n",
        "In this block, you will prepare the data for the training, such as normalisation. "
      ]
    },
    {
      "cell_type": "code",
      "execution_count": 2,
      "metadata": {
        "colab": {
          "base_uri": "https://localhost:8080/",
          "height": 342
        },
        "id": "uuZccw52AR57",
        "outputId": "a29e2e51-4863-4c92-a8b3-49e0a9ffbcf6"
      },
      "outputs": [
        {
          "output_type": "stream",
          "name": "stdout",
          "text": [
            "Downloading data from https://storage.googleapis.com/tensorflow/tf-keras-datasets/mnist.npz\n",
            "11493376/11490434 [==============================] - 0s 0us/step\n",
            "11501568/11490434 [==============================] - 0s 0us/step\n"
          ]
        },
        {
          "output_type": "display_data",
          "data": {
            "image/png": "[encoded data removed]",
            "text/plain": [
              "<Figure size 432x288 with 9 Axes>"
            ]
          },
          "metadata": {
            "needs_background": "light"
          }
        },
        {
          "output_type": "execute_result",
          "data": {
            "text/plain": [
              "(60000, 28, 28)"
            ]
          },
          "metadata": {},
          "execution_count": 2
        }
      ],
      "source": [
        "from keras.datasets import mnist\n",
        "(X_train_full, y_train_full), (X_test, y_test) = mnist.load_data()\n",
        "\n",
        "for i in range(0,9):\n",
        "    plt.subplot(330 + 1 + i)\n",
        "    plt.imshow(X_train_full[i])\n",
        "plt.show()\n",
        "\n",
        "X_train_full.shape\n"
      ]
    },
    {
      "cell_type": "code",
      "source": [
        "# reshape dataset to have a single channel\n",
        "X_train_full = X_train_full.reshape((X_train_full.shape[0], 28, 28, 1))\n",
        "X_test = X_test.reshape((X_test.shape[0], 28, 28, 1))\n",
        "\n",
        "# one-hot encoding for the 10 classes of digits\n",
        "y_train_full = keras.utils.to_categorical(y_train_full, num_classes=10)\n",
        "y_test = keras.utils.to_categorical(y_test, num_classes=10)\n",
        "\n",
        "# normalisation\n",
        "X_train_full = X_train_full/255.0\n",
        "X_test = X_test/255.0\n",
        "\n",
        "# get validation dataset\n",
        "np.random.seed(42) # we set the random seed to make sure everytime the data is shuffled in the same way \n",
        "shuffled_indices = np.random.permutation(X_train_full.shape[0])\n",
        "X_valid, X_train = X_train_full[shuffled_indices[:5000]], X_train_full[shuffled_indices[5000:]]\n",
        "y_valid, y_train = y_train_full[shuffled_indices[:5000]], y_train_full[shuffled_indices[5000:]]"
      ],
      "metadata": {
        "id": "ZevbAWa6KUr_"
      },
      "execution_count": 3,
      "outputs": []
    },
    {
      "cell_type": "markdown",
      "metadata": {
        "id": "djx00aAcAR5-"
      },
      "source": [
        "## Build and train the model\n",
        "\n",
        "Build and train your model. "
      ]
    },
    {
      "cell_type": "code",
      "execution_count": 4,
      "metadata": {
        "id": "IowVgT55AR6B"
      },
      "outputs": [],
      "source": [
        "# TODO: Build your model\n",
        "model = keras.models.Sequential([\n",
        "    keras.layers.Conv2D(filters=32, kernel_size=3, activation=\"relu\", kernel_initializer='he_uniform', padding=\"same\", input_shape=[28, 28, 1]),\n",
        "    keras.layers.MaxPooling2D(pool_size=2),\n",
        "    keras.layers.Conv2D(filters=64, kernel_size=3, activation=\"relu\", kernel_initializer='he_uniform', padding=\"same\"), \n",
        "    keras.layers.MaxPooling2D(pool_size=2),\n",
        "    keras.layers.Flatten(), # starting fully connected layers\n",
        "    keras.layers.Dense(100, activation=\"relu\", kernel_initializer='he_uniform'),\n",
        "    keras.layers.Dense(10, activation=\"softmax\")\n",
        "])"
      ]
    },
    {
      "cell_type": "code",
      "execution_count": 5,
      "metadata": {
        "colab": {
          "base_uri": "https://localhost:8080/"
        },
        "id": "dWLITRN4AR6D",
        "outputId": "c774d859-7e95-4433-af9c-09e28cbe1f30"
      },
      "outputs": [
        {
          "output_type": "stream",
          "name": "stdout",
          "text": [
            "Model: \"sequential\"\n",
            "_________________________________________________________________\n",
            " Layer (type)                Output Shape              Param #   \n",
            "=================================================================\n",
            " conv2d (Conv2D)             (None, 28, 28, 32)        320       \n",
            "                                                                 \n",
            " max_pooling2d (MaxPooling2D  (None, 14, 14, 32)       0         \n",
            " )                                                               \n",
            "                                                                 \n",
            " conv2d_1 (Conv2D)           (None, 14, 14, 64)        18496     \n",
            "                                                                 \n",
            " max_pooling2d_1 (MaxPooling  (None, 7, 7, 64)         0         \n",
            " 2D)                                                             \n",
            "                                                                 \n",
            " flatten (Flatten)           (None, 3136)              0         \n",
            "                                                                 \n",
            " dense (Dense)               (None, 100)               313700    \n",
            "                                                                 \n",
            " dense_1 (Dense)             (None, 10)                1010      \n",
            "                                                                 \n",
            "=================================================================\n",
            "Total params: 333,526\n",
            "Trainable params: 333,526\n",
            "Non-trainable params: 0\n",
            "_________________________________________________________________\n"
          ]
        }
      ],
      "source": [
        "# show the structure of your model\n",
        "model.summary()"
      ]
    },
    {
      "cell_type": "code",
      "source": [
        "model.compile(loss=\"categorical_crossentropy\",\n",
        "              optimizer=keras.optimizers.Adam(),\n",
        "              metrics=[\"accuracy\"])"
      ],
      "metadata": {
        "id": "Ickrr1UrME8U"
      },
      "execution_count": 6,
      "outputs": []
    },
    {
      "cell_type": "code",
      "source": [
        "history = model.fit(X_train, y_train, batch_size=32, epochs=20, \n",
        "                    validation_data=(X_valid, y_valid))"
      ],
      "metadata": {
        "colab": {
          "base_uri": "https://localhost:8080/"
        },
        "id": "-I6Q7R_5MCaB",
        "outputId": "44189db7-3cb7-499a-9cb9-9959dfbac43f"
      },
      "execution_count": 7,
      "outputs": [
        {
          "output_type": "stream",
          "name": "stdout",
          "text": [
            "Epoch 1/20\n",
            "1719/1719 [==============================] - 21s 7ms/step - loss: 0.1112 - accuracy: 0.9654 - val_loss: 0.0614 - val_accuracy: 0.9810\n",
            "Epoch 2/20\n",
            "1719/1719 [==============================] - 12s 7ms/step - loss: 0.0397 - accuracy: 0.9875 - val_loss: 0.0506 - val_accuracy: 0.9846\n",
            "Epoch 3/20\n",
            "1719/1719 [==============================] - 12s 7ms/step - loss: 0.0253 - accuracy: 0.9914 - val_loss: 0.0504 - val_accuracy: 0.9872\n",
            "Epoch 4/20\n",
            "1719/1719 [==============================] - 12s 7ms/step - loss: 0.0178 - accuracy: 0.9943 - val_loss: 0.0407 - val_accuracy: 0.9900\n",
            "Epoch 5/20\n",
            "1719/1719 [==============================] - 12s 7ms/step - loss: 0.0139 - accuracy: 0.9954 - val_loss: 0.0526 - val_accuracy: 0.9876\n",
            "Epoch 6/20\n",
            "1719/1719 [==============================] - 12s 7ms/step - loss: 0.0102 - accuracy: 0.9966 - val_loss: 0.0445 - val_accuracy: 0.9906\n",
            "Epoch 7/20\n",
            "1719/1719 [==============================] - 12s 7ms/step - loss: 0.0084 - accuracy: 0.9971 - val_loss: 0.0432 - val_accuracy: 0.9908\n",
            "Epoch 8/20\n",
            "1719/1719 [==============================] - 12s 7ms/step - loss: 0.0078 - accuracy: 0.9975 - val_loss: 0.0526 - val_accuracy: 0.9888\n",
            "Epoch 9/20\n",
            "1719/1719 [==============================] - 13s 8ms/step - loss: 0.0058 - accuracy: 0.9982 - val_loss: 0.0606 - val_accuracy: 0.9886\n",
            "Epoch 10/20\n",
            "1719/1719 [==============================] - 12s 7ms/step - loss: 0.0062 - accuracy: 0.9979 - val_loss: 0.0647 - val_accuracy: 0.9890\n",
            "Epoch 11/20\n",
            "1719/1719 [==============================] - 12s 7ms/step - loss: 0.0057 - accuracy: 0.9982 - val_loss: 0.0602 - val_accuracy: 0.9888\n",
            "Epoch 12/20\n",
            "1719/1719 [==============================] - 12s 7ms/step - loss: 0.0041 - accuracy: 0.9987 - val_loss: 0.0498 - val_accuracy: 0.9916\n",
            "Epoch 13/20\n",
            "1719/1719 [==============================] - 12s 7ms/step - loss: 0.0040 - accuracy: 0.9986 - val_loss: 0.0677 - val_accuracy: 0.9902\n",
            "Epoch 14/20\n",
            "1719/1719 [==============================] - 12s 7ms/step - loss: 0.0035 - accuracy: 0.9987 - val_loss: 0.0720 - val_accuracy: 0.9890\n",
            "Epoch 15/20\n",
            "1719/1719 [==============================] - 12s 7ms/step - loss: 0.0036 - accuracy: 0.9989 - val_loss: 0.0636 - val_accuracy: 0.9908\n",
            "Epoch 16/20\n",
            "1719/1719 [==============================] - 12s 7ms/step - loss: 0.0037 - accuracy: 0.9988 - val_loss: 0.0746 - val_accuracy: 0.9906\n",
            "Epoch 17/20\n",
            "1719/1719 [==============================] - 12s 7ms/step - loss: 0.0050 - accuracy: 0.9985 - val_loss: 0.0578 - val_accuracy: 0.9920\n",
            "Epoch 18/20\n",
            "1719/1719 [==============================] - 12s 7ms/step - loss: 0.0026 - accuracy: 0.9992 - val_loss: 0.0592 - val_accuracy: 0.9928\n",
            "Epoch 19/20\n",
            "1719/1719 [==============================] - 12s 7ms/step - loss: 0.0017 - accuracy: 0.9995 - val_loss: 0.0880 - val_accuracy: 0.9904\n",
            "Epoch 20/20\n",
            "1719/1719 [==============================] - 12s 7ms/step - loss: 0.0049 - accuracy: 0.9987 - val_loss: 0.0855 - val_accuracy: 0.9882\n"
          ]
        }
      ]
    },
    {
      "cell_type": "code",
      "execution_count": 9,
      "metadata": {
        "colab": {
          "base_uri": "https://localhost:8080/",
          "height": 486
        },
        "id": "MhazoQWQAR6F",
        "outputId": "71aa72b0-20e5-4172-d4cb-aaec89e8f9b2"
      },
      "outputs": [
        {
          "output_type": "display_data",
          "data": {
            "image/png": "[encoded data removed]",
            "text/plain": [
              "<Figure size 864x576 with 1 Axes>"
            ]
          },
          "metadata": {
            "needs_background": "light"
          }
        }
      ],
      "source": [
        "# Assume you have stored the training history in the variable \"history\"\n",
        "# Show the learning curves\n",
        "pd.DataFrame(history.history).plot(figsize=(12, 8))\n",
        "plt.gca().set_ylim(0, 1)\n",
        "plt.grid(True)\n",
        "plt.show()"
      ]
    },
    {
      "cell_type": "markdown",
      "metadata": {
        "id": "iNvtpEDTAR6G"
      },
      "source": [
        "## Save the model\n",
        "\n",
        "Save and upload your trained model to the seafile link we provided to you. You can upload it multiple times. We will consider only the newest uploaded model. "
      ]
    },
    {
      "cell_type": "code",
      "source": [
        "from google.colab import drive\n",
        "drive.mount('/gdrive')"
      ],
      "metadata": {
        "colab": {
          "base_uri": "https://localhost:8080/"
        },
        "id": "gT8iDMlo0iCS",
        "outputId": "9c6e84b8-5bbe-481e-8894-2fa27caaa2cd"
      },
      "execution_count": 12,
      "outputs": [
        {
          "output_type": "stream",
          "name": "stdout",
          "text": [
            "Mounted at /gdrive\n"
          ]
        }
      ]
    },
    {
      "cell_type": "code",
      "execution_count": 13,
      "metadata": {
        "id": "SZHTKTO2AR6I"
      },
      "outputs": [],
      "source": [
        "model.save('FDS21-M62-MNIST.h5') # change the file name according to your repository name"
      ]
    },
    {
      "cell_type": "markdown",
      "metadata": {
        "id": "ri57mXcaAR6J"
      },
      "source": [
        "## Load the model and evaluate it on the test data"
      ]
    },
    {
      "cell_type": "code",
      "execution_count": 14,
      "metadata": {
        "colab": {
          "base_uri": "https://localhost:8080/"
        },
        "id": "ibDK-ZVHAR6K",
        "outputId": "ed2b5959-8a0d-43cf-fe6c-44fd40a2616a"
      },
      "outputs": [
        {
          "output_type": "stream",
          "name": "stdout",
          "text": [
            "313/313 [==============================] - 2s 4ms/step - loss: 0.0561 - accuracy: 0.9918\n"
          ]
        },
        {
          "output_type": "execute_result",
          "data": {
            "text/plain": [
              "[0.056099262088537216, 0.9918000102043152]"
            ]
          },
          "metadata": {},
          "execution_count": 14
        }
      ],
      "source": [
        "model = keras.models.load_model(\"FDS21-M62-MNIST.h5\")\n",
        "model.evaluate(X_test, y_test)"
      ]
    },
    {
      "cell_type": "markdown",
      "metadata": {
        "id": "KaxwrskYAR6L"
      },
      "source": [
        "## Short report\n",
        "\n",
        "Please write a few sentences explaining how you build and train the model. Please include the decisions you made, such as why you use x number layers, and the difficulties you met. "
      ]
    },
    {
      "cell_type": "markdown",
      "metadata": {
        "id": "HEcI_Q6HAR6M"
      },
      "source": [
        "In our CNN model we included convolutional and pooling layers for the feature extraction. We trained a model with two convolutional layers, this keeps the model simple and lead to a very high accuracy of 99%. The first layer has 32 filters of size 3 and the second one has 64 filters of size 3. Both layers using ReLU activation function and He uniform weight initialization which are both best practices. Each of the convolutional layer is followed by a max pooling. After the second one the fully connected layers are started with flatten() to provide features to the classifier. \n",
        "\n",
        "Before getting to the output layer, we added a dense layer with 100 nodes to interpret the features. Since we have need to classify our images into 10 classes, we need an output layer with 10 nodes which predict the probability of an image belonging to each class. For this we use the softmax activation function. \n",
        "\n",
        "As this is a multiclass classification problem, we use the categorical cross-entropy loss function, which will be optimized using Adam. \n",
        "\n",
        "We also tried using batch normalization to standardize the output and speed up the learning, but it did not offer any benefit in this case, it even decreased a bit the accuracy. \n",
        "Therefore, we kept the model without batch normalization, as it already has an accuracy of over 99% with a loss of around 5%. "
      ]
    }
  ],
  "metadata": {
    "kernelspec": {
      "display_name": "Python 3",
      "language": "python",
      "name": "python3"
    },
    "language_info": {
      "codemirror_mode": {
        "name": "ipython",
        "version": 3
      },
      "file_extension": ".py",
      "mimetype": "text/x-python",
      "name": "python",
      "nbconvert_exporter": "python",
      "pygments_lexer": "ipython3",
      "version": "3.8.5"
    },
    "colab": {
      "name": "SkeletonMNIST.ipynb",
      "provenance": [],
      "collapsed_sections": []
    },
    "accelerator": "GPU"
  },
  "nbformat": 4,
  "nbformat_minor": 0
}